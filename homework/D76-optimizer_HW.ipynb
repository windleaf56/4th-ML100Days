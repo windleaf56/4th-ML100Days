{
 "cells": [
  {
   "cell_type": "markdown",
   "metadata": {},
   "source": [
    "# 作業重點:\n",
    "\n",
    "(1)以, Adam, 為例, 調整 batch_size, epoch , 觀察accurancy, loss 的變化\n",
    "\n",
    "(2)以同一模型, 分別驗證 SGD, Adam, Rmsprop 的 accurancy"
   ]
  },
  {
   "cell_type": "markdown",
   "metadata": {},
   "source": [
    "# 作業目標:\n",
    "    \n",
    "    取得各種優化器的運算結果"
   ]
  },
  {
   "cell_type": "code",
   "execution_count": 1,
   "metadata": {},
   "outputs": [
    {
     "name": "stderr",
     "output_type": "stream",
     "text": [
      "Using TensorFlow backend.\n"
     ]
    }
   ],
   "source": [
    "from __future__ import print_function\n",
    "import keras\n",
    "from keras.datasets import cifar10\n",
    "from keras.preprocessing.image import ImageDataGenerator\n",
    "from keras.models import Sequential\n",
    "from keras.layers import Dense, Dropout, Activation, Flatten\n",
    "from keras.layers import Conv2D, MaxPooling2D\n",
    "import os\n",
    "from keras import optimizers\n"
   ]
  },
  {
   "cell_type": "code",
   "execution_count": 5,
   "metadata": {},
   "outputs": [],
   "source": [
    "#Blas GEMM launch failed , 避免動態分配GPU / CPU, 出現問題\n",
    "import tensorflow as tf\n",
    "gpu_options = tf.compat.v1.GPUOptions(per_process_gpu_memory_fraction=0.333)\n",
    "sess = tf.compat.v1.Session(config=tf.compat.v1.ConfigProto(gpu_options=gpu_options))\n"
   ]
  },
  {
   "cell_type": "code",
   "execution_count": 6,
   "metadata": {},
   "outputs": [],
   "source": [
    "\n",
    "'''\n",
    "   宣告並設定\n",
    "   batch_size：對總的樣本數進行分組，每組包含的樣本數量\n",
    "   epochs ：訓練次數\n",
    "   \n",
    "''' \n",
    "\n",
    "batch_size = 32\n",
    "num_classes = 10\n",
    "epochs = 20\n",
    "data_augmentation = True\n",
    "num_predictions = 20\n",
    "save_dir = os.path.join(os.getcwd(), 'saved_models')\n",
    "model_name = 'keras_cifar10_trained_model.h5'\n"
   ]
  },
  {
   "cell_type": "code",
   "execution_count": 7,
   "metadata": {},
   "outputs": [
    {
     "name": "stdout",
     "output_type": "stream",
     "text": [
      "x_train shape: (50000, 32, 32, 3)\n",
      "50000 train samples\n",
      "10000 test samples\n"
     ]
    }
   ],
   "source": [
    "\n",
    "# The data, split between train and test sets:\n",
    "(x_train, y_train), (x_test, y_test) = cifar10.load_data()\n",
    "print('x_train shape:', x_train.shape)\n",
    "print(x_train.shape[0], 'train samples')\n",
    "print(x_test.shape[0], 'test samples')\n",
    "\n",
    "# Convert class vectors to binary class matrices.\n",
    "y_train = keras.utils.to_categorical(y_train, num_classes)\n",
    "y_test = keras.utils.to_categorical(y_test, num_classes)"
   ]
  },
  {
   "cell_type": "code",
   "execution_count": 8,
   "metadata": {},
   "outputs": [],
   "source": [
    "#    第一步：選擇模型, 順序模型是多個網絡層的線性堆疊\n",
    " \n",
    "model = Sequential()\n",
    "\n",
    "#   第二步：構建網絡層\n",
    "model.add(Conv2D(32, (3, 3), padding='same',\n",
    "                 input_shape=x_train.shape[1:]))\n",
    "model.add(Activation('relu'))\n",
    "model.add(Conv2D(32, (3, 3)))\n",
    "model.add(Activation('relu'))\n",
    "model.add(MaxPooling2D(pool_size=(2, 2)))\n",
    "model.add(Dropout(0.25))\n",
    "\n",
    "model.add(Conv2D(64, (3, 3), padding='same'))\n",
    "model.add(Activation('relu'))\n",
    "model.add(Conv2D(64, (3, 3)))\n",
    "model.add(Activation('relu'))\n",
    "model.add(MaxPooling2D(pool_size=(2, 2)))\n",
    "model.add(Dropout(0.25))\n",
    "\n",
    "model.add(Flatten())\n",
    "model.add(Dense(512))\n",
    "model.add(Activation('relu'))\n",
    "model.add(Dropout(0.5))\n",
    "\n",
    "model.add(Dense( 10)) # 輸出結果是10個類別，所以維度是10   \n",
    "model.add(Activation('softmax')) # 最後一層用softmax作為激活函數"
   ]
  },
  {
   "cell_type": "code",
   "execution_count": 9,
   "metadata": {},
   "outputs": [
    {
     "name": "stdout",
     "output_type": "stream",
     "text": [
      "Total Parameters：1250858\n"
     ]
    }
   ],
   "source": [
    "# 模型建立完成後，統計參數總量\n",
    "print(\"Total Parameters：%d\" % model.count_params())"
   ]
  },
  {
   "cell_type": "code",
   "execution_count": 10,
   "metadata": {},
   "outputs": [
    {
     "name": "stdout",
     "output_type": "stream",
     "text": [
      "Model: \"sequential_1\"\n",
      "_________________________________________________________________\n",
      "Layer (type)                 Output Shape              Param #   \n",
      "=================================================================\n",
      "conv2d_1 (Conv2D)            (None, 32, 32, 32)        896       \n",
      "_________________________________________________________________\n",
      "activation_1 (Activation)    (None, 32, 32, 32)        0         \n",
      "_________________________________________________________________\n",
      "conv2d_2 (Conv2D)            (None, 30, 30, 32)        9248      \n",
      "_________________________________________________________________\n",
      "activation_2 (Activation)    (None, 30, 30, 32)        0         \n",
      "_________________________________________________________________\n",
      "max_pooling2d_1 (MaxPooling2 (None, 15, 15, 32)        0         \n",
      "_________________________________________________________________\n",
      "dropout_1 (Dropout)          (None, 15, 15, 32)        0         \n",
      "_________________________________________________________________\n",
      "conv2d_3 (Conv2D)            (None, 15, 15, 64)        18496     \n",
      "_________________________________________________________________\n",
      "activation_3 (Activation)    (None, 15, 15, 64)        0         \n",
      "_________________________________________________________________\n",
      "conv2d_4 (Conv2D)            (None, 13, 13, 64)        36928     \n",
      "_________________________________________________________________\n",
      "activation_4 (Activation)    (None, 13, 13, 64)        0         \n",
      "_________________________________________________________________\n",
      "max_pooling2d_2 (MaxPooling2 (None, 6, 6, 64)          0         \n",
      "_________________________________________________________________\n",
      "dropout_2 (Dropout)          (None, 6, 6, 64)          0         \n",
      "_________________________________________________________________\n",
      "flatten_1 (Flatten)          (None, 2304)              0         \n",
      "_________________________________________________________________\n",
      "dense_1 (Dense)              (None, 512)               1180160   \n",
      "_________________________________________________________________\n",
      "activation_5 (Activation)    (None, 512)               0         \n",
      "_________________________________________________________________\n",
      "dropout_3 (Dropout)          (None, 512)               0         \n",
      "_________________________________________________________________\n",
      "dense_2 (Dense)              (None, 10)                5130      \n",
      "_________________________________________________________________\n",
      "activation_6 (Activation)    (None, 10)                0         \n",
      "=================================================================\n",
      "Total params: 1,250,858\n",
      "Trainable params: 1,250,858\n",
      "Non-trainable params: 0\n",
      "_________________________________________________________________\n"
     ]
    }
   ],
   "source": [
    "# 輸出模型摘要資訊\n",
    "model.summary()"
   ]
  },
  {
   "cell_type": "code",
   "execution_count": 12,
   "metadata": {},
   "outputs": [],
   "source": [
    "#第三步編譯\n",
    "'''\n",
    "SGD(隨機梯度下降) - Arguments\n",
    "lr: float >= 0. Learning rate.\n",
    "momentum: float >= 0. Parameter that accelerates SGD in the relevant direction and dampens oscillations.\n",
    "decay: float >= 0. Learning rate decay over each update.\n",
    "nesterov: boolean. Whether to apply Nesterov momentum.\n",
    "'''\n",
    "\n",
    "'''\n",
    "RMSprop- Arguments\n",
    "lr: float >= 0. Learning rate.\n",
    "rho: float >= 0.\n",
    "epsilon: float >= 0. Fuzz factor. If None, defaults to K.epsilon().\n",
    "decay: float >= 0. Learning rate decay over each update.\n",
    "'''\n",
    "\n",
    "'''\n",
    "Example:\n",
    "opt = optimizers.SGD(lr=0.01, decay=1e-6, momentum=0.9, nesterov=True)\n",
    "\n",
    "'''\n",
    "opt = optimizers.SGD(lr=0.01, decay=1e-6, momentum=0.9, nesterov=True)\n",
    "\n",
    "model.compile(optimizer = opt, loss = 'categorical_crossentropy', metrics = ['accuracy'])\n"
   ]
  },
  {
   "cell_type": "code",
   "execution_count": 13,
   "metadata": {},
   "outputs": [],
   "source": [
    "# 資料正規化\n",
    "x_train = x_train.astype('float32')\n",
    "x_test = x_test.astype('float32')\n",
    "x_train /= 255\n",
    "x_test /= 255\n"
   ]
  },
  {
   "cell_type": "code",
   "execution_count": 14,
   "metadata": {},
   "outputs": [
    {
     "name": "stdout",
     "output_type": "stream",
     "text": [
      "Using real-time data augmentation.\n",
      "\n",
      "Train on 50000 samples, validate on 10000 samples\n",
      "Epoch 1/20\n",
      "50000/50000 [==============================] - 28s 552us/step - loss: 1.7454 - accuracy: 0.3577 - val_loss: 1.4239 - val_accuracy: 0.4713\n",
      "Epoch 2/20\n",
      "50000/50000 [==============================] - 17s 339us/step - loss: 1.3145 - accuracy: 0.5247 - val_loss: 1.1148 - val_accuracy: 0.6005\n",
      "Epoch 3/20\n",
      "50000/50000 [==============================] - 17s 330us/step - loss: 1.1319 - accuracy: 0.5970 - val_loss: 0.9613 - val_accuracy: 0.6667\n",
      "Epoch 4/20\n",
      "50000/50000 [==============================] - 17s 334us/step - loss: 1.0137 - accuracy: 0.6429 - val_loss: 0.9375 - val_accuracy: 0.6809\n",
      "Epoch 5/20\n",
      "50000/50000 [==============================] - 17s 335us/step - loss: 0.9396 - accuracy: 0.6686 - val_loss: 0.8309 - val_accuracy: 0.7094\n",
      "Epoch 6/20\n",
      "50000/50000 [==============================] - 16s 327us/step - loss: 0.8814 - accuracy: 0.6916 - val_loss: 0.7817 - val_accuracy: 0.7337\n",
      "Epoch 7/20\n",
      "50000/50000 [==============================] - 17s 333us/step - loss: 0.8406 - accuracy: 0.7051 - val_loss: 0.7901 - val_accuracy: 0.7288\n",
      "Epoch 8/20\n",
      "50000/50000 [==============================] - 17s 330us/step - loss: 0.8061 - accuracy: 0.7173 - val_loss: 0.7711 - val_accuracy: 0.7398\n",
      "Epoch 9/20\n",
      "50000/50000 [==============================] - 17s 335us/step - loss: 0.7748 - accuracy: 0.7296 - val_loss: 0.7550 - val_accuracy: 0.7391\n",
      "Epoch 10/20\n",
      "50000/50000 [==============================] - 16s 329us/step - loss: 0.7570 - accuracy: 0.7365 - val_loss: 0.7164 - val_accuracy: 0.7545\n",
      "Epoch 11/20\n",
      "50000/50000 [==============================] - 17s 331us/step - loss: 0.7407 - accuracy: 0.7432 - val_loss: 0.7343 - val_accuracy: 0.7443\n",
      "Epoch 12/20\n",
      "50000/50000 [==============================] - 17s 331us/step - loss: 0.7111 - accuracy: 0.7509 - val_loss: 0.7190 - val_accuracy: 0.7527\n",
      "Epoch 13/20\n",
      "50000/50000 [==============================] - 17s 331us/step - loss: 0.6997 - accuracy: 0.7546 - val_loss: 0.7449 - val_accuracy: 0.7481\n",
      "Epoch 14/20\n",
      "50000/50000 [==============================] - 17s 330us/step - loss: 0.6826 - accuracy: 0.7621 - val_loss: 0.7232 - val_accuracy: 0.7519\n",
      "Epoch 15/20\n",
      "50000/50000 [==============================] - 17s 331us/step - loss: 0.6714 - accuracy: 0.7657 - val_loss: 0.7096 - val_accuracy: 0.7568\n",
      "Epoch 16/20\n",
      "50000/50000 [==============================] - 17s 332us/step - loss: 0.6586 - accuracy: 0.7723 - val_loss: 0.7166 - val_accuracy: 0.7582\n",
      "Epoch 17/20\n",
      "50000/50000 [==============================] - 16s 328us/step - loss: 0.6514 - accuracy: 0.7745 - val_loss: 0.7053 - val_accuracy: 0.7572\n",
      "Epoch 18/20\n",
      "50000/50000 [==============================] - 17s 335us/step - loss: 0.6423 - accuracy: 0.7761 - val_loss: 0.7049 - val_accuracy: 0.7610\n",
      "Epoch 19/20\n",
      "50000/50000 [==============================] - 16s 329us/step - loss: 0.6377 - accuracy: 0.7764 - val_loss: 0.7177 - val_accuracy: 0.7603\n",
      "Epoch 20/20\n",
      "50000/50000 [==============================] - 17s 333us/step - loss: 0.6282 - accuracy: 0.7824 - val_loss: 0.7042 - val_accuracy: 0.7628\n"
     ]
    },
    {
     "data": {
      "text/plain": [
       "'\\n   第四步：訓練\\n   .fit的一些參數\\n   batch_size：對總的樣本數進行分組，每組包含的樣本數量\\n   epochs ：訓練次數\\n   shuffle：是否把數據隨機打亂之後再進行訓練\\n   validation_split：拿出百分之多少用來做交叉驗證\\n   verbose：屏顯模式 - 0：不輸出, 1：輸出進度, 2：輸出每次的訓練結果\\n'"
      ]
     },
     "execution_count": 14,
     "metadata": {},
     "output_type": "execute_result"
    }
   ],
   "source": [
    "# 是否要做資料處理\n",
    "if not data_augmentation:\n",
    "    print('Not using data augmentation.')\n",
    "    history=model.fit(x_train, y_train,\n",
    "              batch_size=batch_size,\n",
    "              epochs=epochs,\n",
    "              validation_data=(x_test, y_test),\n",
    "              shuffle=True)\n",
    "else:\n",
    "    print('Using real-time data augmentation.')\n",
    "    print('')\n",
    "        \n",
    "    # This will do preprocessing and realtime data augmentation:\n",
    "    datagen = ImageDataGenerator(\n",
    "        featurewise_center=False,  # set input mean to 0 over the dataset\n",
    "        samplewise_center=False,  # set each sample mean to 0\n",
    "        featurewise_std_normalization=False,  # divide inputs by std of the dataset\n",
    "        samplewise_std_normalization=False,  # divide each input by its std\n",
    "        zca_whitening=False,  # apply ZCA whitening\n",
    "        zca_epsilon=1e-06,  # epsilon for ZCA whitening\n",
    "        rotation_range=0,  # randomly rotate images in the range (degrees, 0 to 180)\n",
    "        # randomly shift images horizontally (fraction of total width)\n",
    "        width_shift_range=0.1,\n",
    "        # randomly shift images vertically (fraction of total height)\n",
    "        height_shift_range=0.1,\n",
    "        shear_range=0.,  # set range for random shear\n",
    "        zoom_range=0.,  # set range for random zoom\n",
    "        channel_shift_range=0.,  # set range for random channel shifts\n",
    "        # set mode for filling points outside the input boundaries\n",
    "        fill_mode='nearest',\n",
    "        cval=0.,  # value used for fill_mode = \"constant\"\n",
    "        horizontal_flip=True,  # randomly flip images\n",
    "        vertical_flip=False,  # randomly flip images\n",
    "        # set rescaling factor (applied before any other transformation)\n",
    "        rescale=None,\n",
    "        # set function that will be applied on each input\n",
    "        preprocessing_function=None,\n",
    "        # image data format, either \"channels_first\" or \"channels_last\"\n",
    "        data_format=None,\n",
    "        # fraction of images reserved for validation (strictly between 0 and 1)\n",
    "        validation_split=0.0)\n",
    "\n",
    "    # Compute quantities required for feature-wise normalization\n",
    "    # (std, mean, and principal components if ZCA whitening is applied).\n",
    "    datagen.fit(x_train)\n",
    "    history=model.fit(x_train, y_train,\n",
    "              batch_size=batch_size,\n",
    "              epochs=epochs,\n",
    "              validation_data=(x_test, y_test),\n",
    "              shuffle=True)   \n",
    "\n",
    "'''\n",
    "   第四步：訓練\n",
    "   .fit的一些參數\n",
    "   batch_size：對總的樣本數進行分組，每組包含的樣本數量\n",
    "   epochs ：訓練次數\n",
    "   shuffle：是否把數據隨機打亂之後再進行訓練\n",
    "   validation_split：拿出百分之多少用來做交叉驗證\n",
    "   verbose：屏顯模式 - 0：不輸出, 1：輸出進度, 2：輸出每次的訓練結果\n",
    "''' \n",
    "    "
   ]
  },
  {
   "cell_type": "code",
   "execution_count": 15,
   "metadata": {},
   "outputs": [
    {
     "name": "stdout",
     "output_type": "stream",
     "text": [
      "Saved trained model at D:\\Users\\user\\My_test_file\\ML_100DAYS\\saved_models\\keras_cifar10_trained_model.h5 \n",
      "10000/10000 [==============================] - 1s 148us/step\n",
      "Test loss: 0.7041565300464631\n",
      "Test accuracy: 0.7627999782562256\n"
     ]
    }
   ],
   "source": [
    "# Save model and weights\n",
    "if not os.path.isdir(save_dir):\n",
    "    os.makedirs(save_dir)\n",
    "model_path = os.path.join(save_dir, model_name)\n",
    "model.save(model_path)\n",
    "print('Saved trained model at %s ' % model_path)\n",
    "\n",
    "# Score trained model.\n",
    "scores = model.evaluate(x_test, y_test, verbose=1)\n",
    "print('Test loss:', scores[0])\n",
    "print('Test accuracy:', scores[1])"
   ]
  },
  {
   "cell_type": "code",
   "execution_count": 17,
   "metadata": {},
   "outputs": [
    {
     "name": "stdout",
     "output_type": "stream",
     "text": [
      " test set \n",
      "\n",
      " The test loss is  [0.70415651679039, 0.7627999782562256]\n"
     ]
    }
   ],
   "source": [
    "#    第六步：輸出\n",
    "import numpy \n",
    "\n",
    "print ( \" test set \" )\n",
    "scores = model.evaluate(x_test,y_test,batch_size=200,verbose= 0)\n",
    "print ( \"\" )\n",
    "#print ( \" The test loss is %f \" % scores)\n",
    "print ( \" The test loss is \", scores)\n",
    "\n",
    "\n",
    "result = model.predict(x_test,batch_size=200,verbose= 0)\n",
    "\n",
    "result_max = numpy.argmax(result, axis = 1 )\n",
    "test_max = numpy.argmax(y_test, axis = 1 )\n",
    "\n",
    "result_bool = numpy.equal(result_max, test_max)\n",
    "true_num = numpy.sum(result_bool)\n"
   ]
  },
  {
   "cell_type": "code",
   "execution_count": 19,
   "metadata": {},
   "outputs": [
    {
     "data": {
      "image/png": "[encoded data removed]",
      "text/plain": [
       "<Figure size 432x288 with 1 Axes>"
      ]
     },
     "metadata": {
      "needs_background": "light"
     },
     "output_type": "display_data"
    },
    {
     "data": {
      "image/png": "[encoded data removed]",
      "text/plain": [
       "<Figure size 432x288 with 1 Axes>"
      ]
     },
     "metadata": {
      "needs_background": "light"
     },
     "output_type": "display_data"
    }
   ],
   "source": [
    "import matplotlib.pyplot as plt\n",
    "%matplotlib inline\n",
    "\n",
    "# Plot training & validation accuracy values\n",
    "plt.plot(history.history['accuracy'])\n",
    "plt.plot(history.history['val_accuracy'])\n",
    "plt.title('Model accuracy')\n",
    "plt.ylabel('Accuracy')\n",
    "plt.xlabel('Epoch')\n",
    "plt.legend(['Train', 'Valiidation'], loc='upper left')\n",
    "plt.show()\n",
    "\n",
    "# Plot training & validation loss values\n",
    "plt.plot(history.history['loss'])\n",
    "plt.plot(history.history['val_loss'])\n",
    "plt.title('Model loss')\n",
    "plt.ylabel('Loss')\n",
    "plt.xlabel('Epoch')\n",
    "plt.legend(['Train', 'Valiidation'], loc='upper left')\n",
    "plt.show()"
   ]
  },
  {
   "cell_type": "code",
   "execution_count": 20,
   "metadata": {},
   "outputs": [],
   "source": [
    "model.compile(optimizer = 'adam', loss = 'categorical_crossentropy', metrics = ['accuracy'])"
   ]
  },
  {
   "cell_type": "code",
   "execution_count": 21,
   "metadata": {},
   "outputs": [
    {
     "name": "stdout",
     "output_type": "stream",
     "text": [
      "Using real-time data augmentation.\n",
      "\n",
      "Train on 50000 samples, validate on 10000 samples\n",
      "Epoch 1/20\n",
      "50000/50000 [==============================] - 20s 390us/step - loss: 0.6343 - accuracy: 0.7817 - val_loss: 0.6614 - val_accuracy: 0.7780\n",
      "Epoch 2/20\n",
      "50000/50000 [==============================] - 19s 382us/step - loss: 0.5933 - accuracy: 0.7943 - val_loss: 0.6732 - val_accuracy: 0.7740\n",
      "Epoch 3/20\n",
      "50000/50000 [==============================] - 19s 384us/step - loss: 0.5766 - accuracy: 0.8016 - val_loss: 0.6498 - val_accuracy: 0.7825\n",
      "Epoch 4/20\n",
      "50000/50000 [==============================] - 19s 385us/step - loss: 0.5498 - accuracy: 0.8105 - val_loss: 0.6508 - val_accuracy: 0.7785\n",
      "Epoch 5/20\n",
      "50000/50000 [==============================] - 19s 383us/step - loss: 0.5349 - accuracy: 0.8149 - val_loss: 0.6413 - val_accuracy: 0.7838\n",
      "Epoch 6/20\n",
      "50000/50000 [==============================] - 19s 380us/step - loss: 0.5126 - accuracy: 0.8211 - val_loss: 0.6697 - val_accuracy: 0.7804\n",
      "Epoch 7/20\n",
      "50000/50000 [==============================] - 19s 377us/step - loss: 0.4977 - accuracy: 0.8279 - val_loss: 0.6366 - val_accuracy: 0.7880\n",
      "Epoch 8/20\n",
      "50000/50000 [==============================] - 19s 379us/step - loss: 0.4850 - accuracy: 0.8329 - val_loss: 0.6692 - val_accuracy: 0.7845\n",
      "Epoch 9/20\n",
      "50000/50000 [==============================] - 19s 380us/step - loss: 0.4778 - accuracy: 0.8355 - val_loss: 0.6567 - val_accuracy: 0.7900\n",
      "Epoch 10/20\n",
      "50000/50000 [==============================] - 20s 395us/step - loss: 0.4686 - accuracy: 0.8374 - val_loss: 0.6555 - val_accuracy: 0.7883\n",
      "Epoch 11/20\n",
      "50000/50000 [==============================] - 20s 400us/step - loss: 0.4496 - accuracy: 0.8446 - val_loss: 0.6473 - val_accuracy: 0.8000\n",
      "Epoch 12/20\n",
      "50000/50000 [==============================] - 20s 399us/step - loss: 0.4464 - accuracy: 0.8469 - val_loss: 0.6582 - val_accuracy: 0.7964\n",
      "Epoch 13/20\n",
      "50000/50000 [==============================] - 19s 386us/step - loss: 0.4441 - accuracy: 0.8477 - val_loss: 0.6470 - val_accuracy: 0.7951\n",
      "Epoch 14/20\n",
      "50000/50000 [==============================] - 19s 387us/step - loss: 0.4224 - accuracy: 0.8542 - val_loss: 0.6578 - val_accuracy: 0.7926\n",
      "Epoch 15/20\n",
      "50000/50000 [==============================] - 20s 392us/step - loss: 0.4135 - accuracy: 0.8575 - val_loss: 0.6469 - val_accuracy: 0.7974\n",
      "Epoch 16/20\n",
      "50000/50000 [==============================] - 19s 388us/step - loss: 0.4177 - accuracy: 0.8554 - val_loss: 0.6565 - val_accuracy: 0.7963\n",
      "Epoch 17/20\n",
      "50000/50000 [==============================] - 19s 390us/step - loss: 0.4070 - accuracy: 0.8591 - val_loss: 0.6454 - val_accuracy: 0.7909\n",
      "Epoch 18/20\n",
      "50000/50000 [==============================] - 19s 388us/step - loss: 0.4003 - accuracy: 0.8638 - val_loss: 0.6623 - val_accuracy: 0.7989\n",
      "Epoch 19/20\n",
      "50000/50000 [==============================] - 19s 384us/step - loss: 0.3997 - accuracy: 0.8631 - val_loss: 0.6729 - val_accuracy: 0.7900\n",
      "Epoch 20/20\n",
      "50000/50000 [==============================] - 19s 383us/step - loss: 0.3894 - accuracy: 0.8660 - val_loss: 0.6391 - val_accuracy: 0.7997\n"
     ]
    }
   ],
   "source": [
    "# 是否要做資料處理\n",
    "if not data_augmentation:\n",
    "    print('Not using data augmentation.')\n",
    "    history=model.fit(x_train, y_train,\n",
    "              batch_size=batch_size,\n",
    "              epochs=epochs,\n",
    "              validation_data=(x_test, y_test),\n",
    "              shuffle=True)\n",
    "else:\n",
    "    print('Using real-time data augmentation.')\n",
    "    print('')\n",
    "        \n",
    "    # This will do preprocessing and realtime data augmentation:\n",
    "    datagen = ImageDataGenerator(\n",
    "        featurewise_center=False,  # set input mean to 0 over the dataset\n",
    "        samplewise_center=False,  # set each sample mean to 0\n",
    "        featurewise_std_normalization=False,  # divide inputs by std of the dataset\n",
    "        samplewise_std_normalization=False,  # divide each input by its std\n",
    "        zca_whitening=False,  # apply ZCA whitening\n",
    "        zca_epsilon=1e-06,  # epsilon for ZCA whitening\n",
    "        rotation_range=0,  # randomly rotate images in the range (degrees, 0 to 180)\n",
    "        # randomly shift images horizontally (fraction of total width)\n",
    "        width_shift_range=0.1,\n",
    "        # randomly shift images vertically (fraction of total height)\n",
    "        height_shift_range=0.1,\n",
    "        shear_range=0.,  # set range for random shear\n",
    "        zoom_range=0.,  # set range for random zoom\n",
    "        channel_shift_range=0.,  # set range for random channel shifts\n",
    "        # set mode for filling points outside the input boundaries\n",
    "        fill_mode='nearest',\n",
    "        cval=0.,  # value used for fill_mode = \"constant\"\n",
    "        horizontal_flip=True,  # randomly flip images\n",
    "        vertical_flip=False,  # randomly flip images\n",
    "        # set rescaling factor (applied before any other transformation)\n",
    "        rescale=None,\n",
    "        # set function that will be applied on each input\n",
    "        preprocessing_function=None,\n",
    "        # image data format, either \"channels_first\" or \"channels_last\"\n",
    "        data_format=None,\n",
    "        # fraction of images reserved for validation (strictly between 0 and 1)\n",
    "        validation_split=0.0)\n",
    "\n",
    "    # Compute quantities required for feature-wise normalization\n",
    "    # (std, mean, and principal components if ZCA whitening is applied).\n",
    "    datagen.fit(x_train)\n",
    "    history=model.fit(x_train, y_train,\n",
    "              batch_size=batch_size,\n",
    "              epochs=epochs,\n",
    "              validation_data=(x_test, y_test),\n",
    "              shuffle=True)   "
   ]
  },
  {
   "cell_type": "code",
   "execution_count": 22,
   "metadata": {},
   "outputs": [
    {
     "name": "stdout",
     "output_type": "stream",
     "text": [
      "Saved trained model at D:\\Users\\user\\My_test_file\\ML_100DAYS\\saved_models\\keras_cifar10_trained_model_Adam.h5 \n",
      "10000/10000 [==============================] - 2s 155us/step\n",
      "Test loss: 0.6391284702301026\n",
      "Test accuracy: 0.7997000217437744\n"
     ]
    }
   ],
   "source": [
    "model_name = 'keras_cifar10_trained_model_Adam.h5'\n",
    "# Save model and weights\n",
    "if not os.path.isdir(save_dir):\n",
    "    os.makedirs(save_dir)\n",
    "model_path = os.path.join(save_dir, model_name)\n",
    "model.save(model_path)\n",
    "print('Saved trained model at %s ' % model_path)\n",
    "\n",
    "# Score trained model.\n",
    "scores = model.evaluate(x_test, y_test, verbose=1)\n",
    "print('Test loss:', scores[0])\n",
    "print('Test accuracy:', scores[1])"
   ]
  },
  {
   "cell_type": "code",
   "execution_count": 25,
   "metadata": {},
   "outputs": [],
   "source": [
    "model.compile(optimizer = 'RMSprop', loss = 'categorical_crossentropy', metrics = ['accuracy'])"
   ]
  },
  {
   "cell_type": "code",
   "execution_count": 26,
   "metadata": {},
   "outputs": [
    {
     "name": "stdout",
     "output_type": "stream",
     "text": [
      "Using real-time data augmentation.\n",
      "\n",
      "Train on 50000 samples, validate on 10000 samples\n",
      "Epoch 1/20\n",
      "50000/50000 [==============================] - 20s 400us/step - loss: 0.4178 - accuracy: 0.8694 - val_loss: 0.8198 - val_accuracy: 0.7947\n",
      "Epoch 2/20\n",
      "50000/50000 [==============================] - 19s 375us/step - loss: 0.4750 - accuracy: 0.8533 - val_loss: 0.8163 - val_accuracy: 0.7860\n",
      "Epoch 3/20\n",
      "50000/50000 [==============================] - 19s 378us/step - loss: 0.5468 - accuracy: 0.8345 - val_loss: 0.8040 - val_accuracy: 0.7863\n",
      "Epoch 4/20\n",
      "50000/50000 [==============================] - 19s 385us/step - loss: 0.6483 - accuracy: 0.8054 - val_loss: 0.8910 - val_accuracy: 0.7810\n",
      "Epoch 5/20\n",
      "50000/50000 [==============================] - 19s 378us/step - loss: 0.7528 - accuracy: 0.7768 - val_loss: 0.8311 - val_accuracy: 0.7516\n",
      "Epoch 6/20\n",
      "50000/50000 [==============================] - 18s 369us/step - loss: 0.8439 - accuracy: 0.7515 - val_loss: 0.8337 - val_accuracy: 0.7456\n",
      "Epoch 7/20\n",
      "50000/50000 [==============================] - 19s 378us/step - loss: 0.9600 - accuracy: 0.7146 - val_loss: 0.9607 - val_accuracy: 0.6977\n",
      "Epoch 8/20\n",
      "50000/50000 [==============================] - 20s 392us/step - loss: 1.0504 - accuracy: 0.6873 - val_loss: 0.9760 - val_accuracy: 0.7359\n",
      "Epoch 9/20\n",
      "50000/50000 [==============================] - 18s 364us/step - loss: 1.1336 - accuracy: 0.6580 - val_loss: 1.2301 - val_accuracy: 0.5997\n",
      "Epoch 10/20\n",
      "50000/50000 [==============================] - 19s 381us/step - loss: 1.1914 - accuracy: 0.6350 - val_loss: 1.0692 - val_accuracy: 0.6657\n",
      "Epoch 11/20\n",
      "50000/50000 [==============================] - 19s 379us/step - loss: 1.2543 - accuracy: 0.6145 - val_loss: 1.2931 - val_accuracy: 0.5705\n",
      "Epoch 12/20\n",
      "50000/50000 [==============================] - 19s 383us/step - loss: 1.2980 - accuracy: 0.5903 - val_loss: 1.1913 - val_accuracy: 0.6119\n",
      "Epoch 13/20\n",
      "50000/50000 [==============================] - 19s 375us/step - loss: 1.3545 - accuracy: 0.5764 - val_loss: 1.2644 - val_accuracy: 0.6267\n",
      "Epoch 14/20\n",
      "50000/50000 [==============================] - 19s 372us/step - loss: 1.4104 - accuracy: 0.5645 - val_loss: 1.2417 - val_accuracy: 0.5862\n",
      "Epoch 15/20\n",
      "50000/50000 [==============================] - 18s 369us/step - loss: 1.3994 - accuracy: 0.5535 - val_loss: 1.1446 - val_accuracy: 0.6128\n",
      "Epoch 16/20\n",
      "50000/50000 [==============================] - 19s 373us/step - loss: 1.4336 - accuracy: 0.5370 - val_loss: 1.3223 - val_accuracy: 0.5677\n",
      "Epoch 17/20\n",
      "50000/50000 [==============================] - 19s 385us/step - loss: 1.4614 - accuracy: 0.5325 - val_loss: 1.3822 - val_accuracy: 0.5257\n",
      "Epoch 18/20\n",
      "50000/50000 [==============================] - 19s 374us/step - loss: 1.4917 - accuracy: 0.5227 - val_loss: 1.6536 - val_accuracy: 0.5150\n",
      "Epoch 19/20\n",
      "50000/50000 [==============================] - 19s 373us/step - loss: 1.5017 - accuracy: 0.5138 - val_loss: 3.0708 - val_accuracy: 0.3986\n",
      "Epoch 20/20\n",
      "50000/50000 [==============================] - 18s 369us/step - loss: 1.5499 - accuracy: 0.5008 - val_loss: 1.4951 - val_accuracy: 0.4897\n"
     ]
    }
   ],
   "source": [
    "# 是否要做資料處理\n",
    "if not data_augmentation:\n",
    "    print('Not using data augmentation.')\n",
    "    history=model.fit(x_train, y_train,\n",
    "              batch_size=batch_size,\n",
    "              epochs=epochs,\n",
    "              validation_data=(x_test, y_test),\n",
    "              shuffle=True)\n",
    "else:\n",
    "    print('Using real-time data augmentation.')\n",
    "    print('')\n",
    "        \n",
    "    # This will do preprocessing and realtime data augmentation:\n",
    "    datagen = ImageDataGenerator(\n",
    "        featurewise_center=False,  # set input mean to 0 over the dataset\n",
    "        samplewise_center=False,  # set each sample mean to 0\n",
    "        featurewise_std_normalization=False,  # divide inputs by std of the dataset\n",
    "        samplewise_std_normalization=False,  # divide each input by its std\n",
    "        zca_whitening=False,  # apply ZCA whitening\n",
    "        zca_epsilon=1e-06,  # epsilon for ZCA whitening\n",
    "        rotation_range=0,  # randomly rotate images in the range (degrees, 0 to 180)\n",
    "        # randomly shift images horizontally (fraction of total width)\n",
    "        width_shift_range=0.1,\n",
    "        # randomly shift images vertically (fraction of total height)\n",
    "        height_shift_range=0.1,\n",
    "        shear_range=0.,  # set range for random shear\n",
    "        zoom_range=0.,  # set range for random zoom\n",
    "        channel_shift_range=0.,  # set range for random channel shifts\n",
    "        # set mode for filling points outside the input boundaries\n",
    "        fill_mode='nearest',\n",
    "        cval=0.,  # value used for fill_mode = \"constant\"\n",
    "        horizontal_flip=True,  # randomly flip images\n",
    "        vertical_flip=False,  # randomly flip images\n",
    "        # set rescaling factor (applied before any other transformation)\n",
    "        rescale=None,\n",
    "        # set function that will be applied on each input\n",
    "        preprocessing_function=None,\n",
    "        # image data format, either \"channels_first\" or \"channels_last\"\n",
    "        data_format=None,\n",
    "        # fraction of images reserved for validation (strictly between 0 and 1)\n",
    "        validation_split=0.0)\n",
    "\n",
    "    # Compute quantities required for feature-wise normalization\n",
    "    # (std, mean, and principal components if ZCA whitening is applied).\n",
    "    datagen.fit(x_train)\n",
    "    history=model.fit(x_train, y_train,\n",
    "              batch_size=batch_size,\n",
    "              epochs=epochs,\n",
    "              validation_data=(x_test, y_test),\n",
    "              shuffle=True)   "
   ]
  },
  {
   "cell_type": "code",
   "execution_count": 27,
   "metadata": {},
   "outputs": [
    {
     "name": "stdout",
     "output_type": "stream",
     "text": [
      "Saved trained model at D:\\Users\\user\\My_test_file\\ML_100DAYS\\saved_models\\keras_cifar10_trained_model_RMSprop.h5 \n",
      "10000/10000 [==============================] - 2s 152us/step\n",
      "Test loss: 1.4950805736541748\n",
      "Test accuracy: 0.48969998955726624\n"
     ]
    }
   ],
   "source": [
    "model_name = 'keras_cifar10_trained_model_RMSprop.h5'\n",
    "# Save model and weights\n",
    "if not os.path.isdir(save_dir):\n",
    "    os.makedirs(save_dir)\n",
    "model_path = os.path.join(save_dir, model_name)\n",
    "model.save(model_path)\n",
    "print('Saved trained model at %s ' % model_path)\n",
    "\n",
    "# Score trained model.\n",
    "scores = model.evaluate(x_test, y_test, verbose=1)\n",
    "print('Test loss:', scores[0])\n",
    "print('Test accuracy:', scores[1])"
   ]
  },
  {
   "cell_type": "code",
   "execution_count": 28,
   "metadata": {},
   "outputs": [],
   "source": [
    "batch_size = 64\n",
    "epochs = 10"
   ]
  },
  {
   "cell_type": "code",
   "execution_count": 29,
   "metadata": {},
   "outputs": [],
   "source": [
    "model.compile(optimizer = 'adam', loss = 'categorical_crossentropy', metrics = ['accuracy'])"
   ]
  },
  {
   "cell_type": "code",
   "execution_count": 30,
   "metadata": {},
   "outputs": [
    {
     "name": "stdout",
     "output_type": "stream",
     "text": [
      "Using real-time data augmentation.\n",
      "\n",
      "Train on 50000 samples, validate on 10000 samples\n",
      "Epoch 1/10\n",
      "50000/50000 [==============================] - 15s 292us/step - loss: 1.3546 - accuracy: 0.5386 - val_loss: 1.2091 - val_accuracy: 0.5739\n",
      "Epoch 2/10\n",
      "50000/50000 [==============================] - 14s 278us/step - loss: 1.2754 - accuracy: 0.5699 - val_loss: 1.0858 - val_accuracy: 0.6279\n",
      "Epoch 3/10\n",
      "50000/50000 [==============================] - 14s 277us/step - loss: 1.2006 - accuracy: 0.5927 - val_loss: 1.1121 - val_accuracy: 0.6164\n",
      "Epoch 4/10\n",
      "50000/50000 [==============================] - 14s 281us/step - loss: 1.1460 - accuracy: 0.6122 - val_loss: 0.9806 - val_accuracy: 0.6651\n",
      "Epoch 5/10\n",
      "50000/50000 [==============================] - 14s 277us/step - loss: 1.1095 - accuracy: 0.6241 - val_loss: 0.9806 - val_accuracy: 0.6632\n",
      "Epoch 6/10\n",
      "50000/50000 [==============================] - 14s 281us/step - loss: 1.0791 - accuracy: 0.6343 - val_loss: 0.9113 - val_accuracy: 0.6910\n",
      "Epoch 7/10\n",
      "50000/50000 [==============================] - 14s 284us/step - loss: 1.0501 - accuracy: 0.6424 - val_loss: 0.9763 - val_accuracy: 0.6643\n",
      "Epoch 8/10\n",
      "50000/50000 [==============================] - 14s 277us/step - loss: 1.0173 - accuracy: 0.6556 - val_loss: 0.9146 - val_accuracy: 0.6967\n",
      "Epoch 9/10\n",
      "50000/50000 [==============================] - 14s 276us/step - loss: 0.9989 - accuracy: 0.6612 - val_loss: 0.9276 - val_accuracy: 0.6942\n",
      "Epoch 10/10\n",
      "50000/50000 [==============================] - 14s 279us/step - loss: 0.9820 - accuracy: 0.6678 - val_loss: 0.8599 - val_accuracy: 0.7052\n"
     ]
    }
   ],
   "source": [
    "# 是否要做資料處理\n",
    "if not data_augmentation:\n",
    "    print('Not using data augmentation.')\n",
    "    history=model.fit(x_train, y_train,\n",
    "              batch_size=batch_size,\n",
    "              epochs=epochs,\n",
    "              validation_data=(x_test, y_test),\n",
    "              shuffle=True)\n",
    "else:\n",
    "    print('Using real-time data augmentation.')\n",
    "    print('')\n",
    "        \n",
    "    # This will do preprocessing and realtime data augmentation:\n",
    "    datagen = ImageDataGenerator(\n",
    "        featurewise_center=False,  # set input mean to 0 over the dataset\n",
    "        samplewise_center=False,  # set each sample mean to 0\n",
    "        featurewise_std_normalization=False,  # divide inputs by std of the dataset\n",
    "        samplewise_std_normalization=False,  # divide each input by its std\n",
    "        zca_whitening=False,  # apply ZCA whitening\n",
    "        zca_epsilon=1e-06,  # epsilon for ZCA whitening\n",
    "        rotation_range=0,  # randomly rotate images in the range (degrees, 0 to 180)\n",
    "        # randomly shift images horizontally (fraction of total width)\n",
    "        width_shift_range=0.1,\n",
    "        # randomly shift images vertically (fraction of total height)\n",
    "        height_shift_range=0.1,\n",
    "        shear_range=0.,  # set range for random shear\n",
    "        zoom_range=0.,  # set range for random zoom\n",
    "        channel_shift_range=0.,  # set range for random channel shifts\n",
    "        # set mode for filling points outside the input boundaries\n",
    "        fill_mode='nearest',\n",
    "        cval=0.,  # value used for fill_mode = \"constant\"\n",
    "        horizontal_flip=True,  # randomly flip images\n",
    "        vertical_flip=False,  # randomly flip images\n",
    "        # set rescaling factor (applied before any other transformation)\n",
    "        rescale=None,\n",
    "        # set function that will be applied on each input\n",
    "        preprocessing_function=None,\n",
    "        # image data format, either \"channels_first\" or \"channels_last\"\n",
    "        data_format=None,\n",
    "        # fraction of images reserved for validation (strictly between 0 and 1)\n",
    "        validation_split=0.0)\n",
    "\n",
    "    # Compute quantities required for feature-wise normalization\n",
    "    # (std, mean, and principal components if ZCA whitening is applied).\n",
    "    datagen.fit(x_train)\n",
    "    history=model.fit(x_train, y_train,\n",
    "              batch_size=batch_size,\n",
    "              epochs=epochs,\n",
    "              validation_data=(x_test, y_test),\n",
    "              shuffle=True)   "
   ]
  },
  {
   "cell_type": "code",
   "execution_count": 31,
   "metadata": {},
   "outputs": [
    {
     "name": "stdout",
     "output_type": "stream",
     "text": [
      "Saved trained model at D:\\Users\\user\\My_test_file\\ML_100DAYS\\saved_models\\keras_cifar10_trained_model_Adam_D_batch_size_epochs.h5 \n",
      "10000/10000 [==============================] - 2s 154us/step\n",
      "Test loss: 0.8598950222969055\n",
      "Test accuracy: 0.7052000164985657\n"
     ]
    }
   ],
   "source": [
    "model_name = 'keras_cifar10_trained_model_Adam_D_batch_size_epochs.h5'\n",
    "# Save model and weights\n",
    "if not os.path.isdir(save_dir):\n",
    "    os.makedirs(save_dir)\n",
    "model_path = os.path.join(save_dir, model_name)\n",
    "model.save(model_path)\n",
    "print('Saved trained model at %s ' % model_path)\n",
    "\n",
    "# Score trained model.\n",
    "scores = model.evaluate(x_test, y_test, verbose=1)\n",
    "print('Test loss:', scores[0])\n",
    "print('Test accuracy:', scores[1])"
   ]
  },
  {
   "cell_type": "markdown",
   "metadata": {},
   "source": [
    "# 作業1:以同一模型, 分別驗證 SGD, Adam, Rmsprop 的 accurancy\n",
    "\n"
   ]
  },
  {
   "cell_type": "markdown",
   "metadata": {},
   "source": [
    "Test accuracy  \n",
    "SGD    :0.7627999782562256  \n",
    "Adam   :0.7997000217437744  \n",
    "Rmsprop:0.48969998955726624\n",
    "Rmsprop越訓練，Acc反而越差。  "
   ]
  },
  {
   "cell_type": "markdown",
   "metadata": {},
   "source": [
    "# 作業2:以, Adam, 為例, 調整 batch_size, epoch , 觀察aaurancy, loss 的變化"
   ]
  },
  {
   "cell_type": "markdown",
   "metadata": {},
   "source": [
    "原本batch_size=32, epoch=20  \n",
    "Test accuracy=0.7997000217437744  \n",
    "\n",
    "改成batch_size=64, epoch=10  \n",
    "Test accuracy=0.7052\n"
   ]
  },
  {
   "cell_type": "code",
   "execution_count": null,
   "metadata": {},
   "outputs": [],
   "source": []
  }
 ],
 "metadata": {
  "kernelspec": {
   "display_name": "Python 3",
   "language": "python",
   "name": "python3"
  },
  "language_info": {
   "codemirror_mode": {
    "name": "ipython",
    "version": 3
   },
   "file_extension": ".py",
   "mimetype": "text/x-python",
   "name": "python",
   "nbconvert_exporter": "python",
   "pygments_lexer": "ipython3",
   "version": "3.7.7"
  }
 },
 "nbformat": 4,
 "nbformat_minor": 2
}
