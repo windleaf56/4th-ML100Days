{
 "cells": [
  {
   "cell_type": "markdown",
   "metadata": {},
   "source": [
    "## Work\n",
    "1. 試比較 save_best_only 與否的差異\n",
    "2. 請僅存入將 save_weights_only 設定為 True, 並嘗試 reset ipynb 並將模型與權重重新建回並預測 x_test"
   ]
  },
  {
   "cell_type": "code",
   "execution_count": 1,
   "metadata": {},
   "outputs": [
    {
     "name": "stderr",
     "output_type": "stream",
     "text": [
      "Using TensorFlow backend.\n"
     ]
    }
   ],
   "source": [
    "import os\n",
    "import keras\n",
    "from keras.layers import BatchNormalization\n",
    "\n",
    "# Disable GPU\n",
    "os.environ[\"CUDA_VISIBLE_DEVICES\"] = \"\""
   ]
  },
  {
   "cell_type": "code",
   "execution_count": 2,
   "metadata": {},
   "outputs": [],
   "source": [
    "train, test = keras.datasets.cifar10.load_data()"
   ]
  },
  {
   "cell_type": "code",
   "execution_count": 3,
   "metadata": {},
   "outputs": [],
   "source": [
    "## 資料前處理\n",
    "def preproc_x(x, flatten=True):\n",
    "    x = x / 255.\n",
    "    if flatten:\n",
    "        x = x.reshape((len(x), -1))\n",
    "    return x\n",
    "\n",
    "def preproc_y(y, num_classes=10):\n",
    "    if y.shape[-1] == 1:\n",
    "        y = keras.utils.to_categorical(y, num_classes)\n",
    "    return y    "
   ]
  },
  {
   "cell_type": "code",
   "execution_count": 4,
   "metadata": {},
   "outputs": [],
   "source": [
    "x_train, y_train = train\n",
    "x_test, y_test = test\n",
    "\n",
    "# Preproc the inputs\n",
    "x_train = preproc_x(x_train)\n",
    "x_test = preproc_x(x_test)\n",
    "\n",
    "# Preprc the outputs\n",
    "y_train = preproc_y(y_train)\n",
    "y_test = preproc_y(y_test)"
   ]
  },
  {
   "cell_type": "code",
   "execution_count": 5,
   "metadata": {},
   "outputs": [],
   "source": [
    "def build_mlp(input_shape, output_units=10, num_neurons=[512, 256, 128]):\n",
    "    \"\"\"Code Here\n",
    "    建立你的神經網路\n",
    "    \"\"\"\n",
    "    input_layer = keras.layers.Input(input_shape)\n",
    "    \n",
    "    for i, n_units in enumerate(num_neurons):\n",
    "        if i == 0:\n",
    "            x = keras.layers.Dense(units=n_units, \n",
    "                                   activation=\"relu\", \n",
    "                                   name=\"hidden_layer\"+str(i+1))(input_layer)\n",
    "            x = BatchNormalization()(x)\n",
    "        else:\n",
    "            x = keras.layers.Dense(units=n_units, \n",
    "                                   activation=\"relu\", \n",
    "                                   name=\"hidden_layer\"+str(i+1))(x)\n",
    "            x = BatchNormalization()(x)\n",
    "    \n",
    "    out = keras.layers.Dense(units=output_units, activation=\"softmax\", name=\"output\")(x)\n",
    "    \n",
    "    model = keras.models.Model(inputs=[input_layer], outputs=[out])\n",
    "    return model"
   ]
  },
  {
   "cell_type": "code",
   "execution_count": 6,
   "metadata": {},
   "outputs": [],
   "source": [
    "\"\"\"Code Here\n",
    "設定超參數\n",
    "\"\"\"\n",
    "LEARNING_RATE = 1e-3\n",
    "EPOCHS = 50\n",
    "BATCH_SIZE = 1024\n",
    "MOMENTUM = 0.95"
   ]
  },
  {
   "cell_type": "code",
   "execution_count": 7,
   "metadata": {
    "scrolled": true
   },
   "outputs": [
    {
     "name": "stdout",
     "output_type": "stream",
     "text": [
      "Experiment with save_best_only=1\n",
      "Model: \"model_1\"\n",
      "_________________________________________________________________\n",
      "Layer (type)                 Output Shape              Param #   \n",
      "=================================================================\n",
      "input_1 (InputLayer)         (None, 3072)              0         \n",
      "_________________________________________________________________\n",
      "hidden_layer1 (Dense)        (None, 512)               1573376   \n",
      "_________________________________________________________________\n",
      "batch_normalization_1 (Batch (None, 512)               2048      \n",
      "_________________________________________________________________\n",
      "hidden_layer2 (Dense)        (None, 256)               131328    \n",
      "_________________________________________________________________\n",
      "batch_normalization_2 (Batch (None, 256)               1024      \n",
      "_________________________________________________________________\n",
      "hidden_layer3 (Dense)        (None, 128)               32896     \n",
      "_________________________________________________________________\n",
      "batch_normalization_3 (Batch (None, 128)               512       \n",
      "_________________________________________________________________\n",
      "output (Dense)               (None, 10)                1290      \n",
      "=================================================================\n",
      "Total params: 1,742,474\n",
      "Trainable params: 1,740,682\n",
      "Non-trainable params: 1,792\n",
      "_________________________________________________________________\n",
      "Train on 50000 samples, validate on 10000 samples\n",
      "Epoch 1/50\n",
      "50000/50000 [==============================] - 3s 63us/step - loss: 2.2269 - accuracy: 0.2691 - val_loss: 2.1428 - val_accuracy: 0.2289\n",
      "Epoch 2/50\n",
      "50000/50000 [==============================] - 2s 47us/step - loss: 1.7511 - accuracy: 0.3909 - val_loss: 1.9787 - val_accuracy: 0.3029\n",
      "Epoch 3/50\n",
      "50000/50000 [==============================] - 2s 45us/step - loss: 1.6307 - accuracy: 0.4291 - val_loss: 1.8261 - val_accuracy: 0.3718\n",
      "Epoch 4/50\n",
      "50000/50000 [==============================] - 2s 48us/step - loss: 1.5586 - accuracy: 0.4563 - val_loss: 1.7299 - val_accuracy: 0.3981\n",
      "Epoch 5/50\n",
      "50000/50000 [==============================] - 2s 47us/step - loss: 1.5019 - accuracy: 0.4769 - val_loss: 1.6402 - val_accuracy: 0.4328\n",
      "Epoch 6/50\n",
      "50000/50000 [==============================] - 2s 44us/step - loss: 1.4571 - accuracy: 0.4930 - val_loss: 1.5949 - val_accuracy: 0.4439\n",
      "Epoch 7/50\n",
      "50000/50000 [==============================] - 2s 45us/step - loss: 1.4162 - accuracy: 0.5080 - val_loss: 1.5570 - val_accuracy: 0.4549\n",
      "Epoch 8/50\n",
      "50000/50000 [==============================] - 2s 45us/step - loss: 1.3808 - accuracy: 0.5204 - val_loss: 1.5371 - val_accuracy: 0.4602\n",
      "Epoch 9/50\n",
      "50000/50000 [==============================] - 2s 47us/step - loss: 1.3498 - accuracy: 0.5305 - val_loss: 1.5217 - val_accuracy: 0.4624\n",
      "Epoch 10/50\n",
      "50000/50000 [==============================] - 2s 47us/step - loss: 1.3196 - accuracy: 0.5421 - val_loss: 1.4951 - val_accuracy: 0.4745\n",
      "Epoch 11/50\n",
      "50000/50000 [==============================] - 2s 46us/step - loss: 1.2919 - accuracy: 0.5528 - val_loss: 1.4941 - val_accuracy: 0.4777\n",
      "Epoch 12/50\n",
      "50000/50000 [==============================] - 2s 46us/step - loss: 1.2629 - accuracy: 0.5639 - val_loss: 1.4840 - val_accuracy: 0.4781\n",
      "Epoch 13/50\n",
      "50000/50000 [==============================] - 2s 46us/step - loss: 1.2379 - accuracy: 0.5739 - val_loss: 1.4841 - val_accuracy: 0.4849\n",
      "Epoch 14/50\n",
      "50000/50000 [==============================] - 2s 45us/step - loss: 1.2132 - accuracy: 0.5818 - val_loss: 1.4801 - val_accuracy: 0.4821\n",
      "Epoch 15/50\n",
      "50000/50000 [==============================] - 2s 45us/step - loss: 1.1899 - accuracy: 0.5916 - val_loss: 1.4771 - val_accuracy: 0.4839\n",
      "Epoch 16/50\n",
      "50000/50000 [==============================] - 2s 46us/step - loss: 1.1647 - accuracy: 0.6016 - val_loss: 1.4853 - val_accuracy: 0.4837\n",
      "Epoch 17/50\n",
      "50000/50000 [==============================] - 2s 45us/step - loss: 1.1425 - accuracy: 0.6091 - val_loss: 1.4803 - val_accuracy: 0.4856\n",
      "Epoch 18/50\n",
      "50000/50000 [==============================] - 2s 44us/step - loss: 1.1202 - accuracy: 0.6186 - val_loss: 1.4718 - val_accuracy: 0.4811\n",
      "Epoch 19/50\n",
      "50000/50000 [==============================] - 2s 46us/step - loss: 1.0991 - accuracy: 0.6275 - val_loss: 1.4622 - val_accuracy: 0.4956\n",
      "Epoch 20/50\n",
      "50000/50000 [==============================] - 2s 46us/step - loss: 1.0770 - accuracy: 0.6362 - val_loss: 1.4873 - val_accuracy: 0.4891\n",
      "Epoch 21/50\n",
      "50000/50000 [==============================] - 2s 49us/step - loss: 1.0565 - accuracy: 0.6431 - val_loss: 1.4646 - val_accuracy: 0.4953\n",
      "Epoch 22/50\n",
      "50000/50000 [==============================] - 2s 45us/step - loss: 1.0344 - accuracy: 0.6506 - val_loss: 1.4711 - val_accuracy: 0.4933\n",
      "Epoch 23/50\n",
      "50000/50000 [==============================] - 2s 45us/step - loss: 1.0128 - accuracy: 0.6597 - val_loss: 1.4671 - val_accuracy: 0.4976\n",
      "Epoch 24/50\n",
      "50000/50000 [==============================] - 2s 45us/step - loss: 0.9937 - accuracy: 0.6660 - val_loss: 1.4820 - val_accuracy: 0.4943\n",
      "Epoch 25/50\n",
      "50000/50000 [==============================] - 2s 44us/step - loss: 0.9702 - accuracy: 0.6758 - val_loss: 1.4758 - val_accuracy: 0.4918\n",
      "Epoch 26/50\n",
      "50000/50000 [==============================] - 2s 44us/step - loss: 0.9504 - accuracy: 0.6841 - val_loss: 1.4941 - val_accuracy: 0.4928\n",
      "Epoch 27/50\n",
      "50000/50000 [==============================] - 2s 44us/step - loss: 0.9314 - accuracy: 0.6911 - val_loss: 1.4828 - val_accuracy: 0.4955\n",
      "Epoch 28/50\n",
      "50000/50000 [==============================] - 2s 47us/step - loss: 0.9082 - accuracy: 0.6992 - val_loss: 1.4913 - val_accuracy: 0.4922\n",
      "Epoch 29/50\n",
      "50000/50000 [==============================] - 2s 46us/step - loss: 0.8924 - accuracy: 0.7066 - val_loss: 1.4960 - val_accuracy: 0.5004\n",
      "Epoch 30/50\n",
      "50000/50000 [==============================] - 2s 45us/step - loss: 0.8724 - accuracy: 0.7125 - val_loss: 1.4991 - val_accuracy: 0.5009\n",
      "Epoch 31/50\n",
      "50000/50000 [==============================] - 2s 44us/step - loss: 0.8522 - accuracy: 0.7215 - val_loss: 1.5108 - val_accuracy: 0.4896\n",
      "Epoch 32/50\n",
      "50000/50000 [==============================] - 2s 45us/step - loss: 0.8320 - accuracy: 0.7313 - val_loss: 1.5157 - val_accuracy: 0.4942\n",
      "Epoch 33/50\n",
      "50000/50000 [==============================] - 2s 45us/step - loss: 0.8127 - accuracy: 0.7374 - val_loss: 1.5260 - val_accuracy: 0.4948\n",
      "Epoch 34/50\n",
      "50000/50000 [==============================] - 2s 46us/step - loss: 0.7936 - accuracy: 0.7460 - val_loss: 1.5255 - val_accuracy: 0.4949\n",
      "Epoch 35/50\n",
      "50000/50000 [==============================] - 2s 45us/step - loss: 0.7747 - accuracy: 0.7519 - val_loss: 1.5352 - val_accuracy: 0.4947\n",
      "Epoch 36/50\n",
      "50000/50000 [==============================] - 2s 44us/step - loss: 0.7550 - accuracy: 0.7596 - val_loss: 1.5424 - val_accuracy: 0.4931\n",
      "Epoch 37/50\n",
      "50000/50000 [==============================] - 2s 46us/step - loss: 0.7349 - accuracy: 0.7665 - val_loss: 1.5472 - val_accuracy: 0.4942\n",
      "Epoch 38/50\n",
      "50000/50000 [==============================] - 2s 45us/step - loss: 0.7190 - accuracy: 0.7738 - val_loss: 1.5570 - val_accuracy: 0.4887\n",
      "Epoch 39/50\n",
      "50000/50000 [==============================] - 2s 45us/step - loss: 0.7002 - accuracy: 0.7818 - val_loss: 1.5679 - val_accuracy: 0.4886\n",
      "Epoch 40/50\n",
      "50000/50000 [==============================] - 2s 45us/step - loss: 0.6807 - accuracy: 0.7897 - val_loss: 1.5711 - val_accuracy: 0.4917\n",
      "Epoch 41/50\n",
      "50000/50000 [==============================] - 2s 45us/step - loss: 0.6620 - accuracy: 0.7959 - val_loss: 1.5857 - val_accuracy: 0.4936\n",
      "Epoch 42/50\n",
      "50000/50000 [==============================] - 2s 46us/step - loss: 0.6443 - accuracy: 0.8039 - val_loss: 1.5855 - val_accuracy: 0.4888\n",
      "Epoch 43/50\n",
      "50000/50000 [==============================] - 2s 45us/step - loss: 0.6263 - accuracy: 0.8103 - val_loss: 1.6188 - val_accuracy: 0.4885\n",
      "Epoch 44/50\n",
      "50000/50000 [==============================] - 2s 46us/step - loss: 0.6102 - accuracy: 0.8160 - val_loss: 1.6175 - val_accuracy: 0.4907\n",
      "Epoch 45/50\n",
      "50000/50000 [==============================] - 2s 46us/step - loss: 0.5910 - accuracy: 0.8250 - val_loss: 1.6261 - val_accuracy: 0.4893\n",
      "Epoch 46/50\n"
     ]
    },
    {
     "name": "stdout",
     "output_type": "stream",
     "text": [
      "50000/50000 [==============================] - 2s 45us/step - loss: 0.5743 - accuracy: 0.8314 - val_loss: 1.6512 - val_accuracy: 0.4897\n",
      "Epoch 47/50\n",
      "50000/50000 [==============================] - 2s 45us/step - loss: 0.5583 - accuracy: 0.8368 - val_loss: 1.6610 - val_accuracy: 0.4875\n",
      "Epoch 48/50\n",
      "50000/50000 [==============================] - 2s 44us/step - loss: 0.5408 - accuracy: 0.8430 - val_loss: 1.6694 - val_accuracy: 0.4905\n",
      "Epoch 49/50\n",
      "50000/50000 [==============================] - 2s 44us/step - loss: 0.5243 - accuracy: 0.8499 - val_loss: 1.6642 - val_accuracy: 0.4877\n",
      "Epoch 50/50\n",
      "50000/50000 [==============================] - 2s 44us/step - loss: 0.5056 - accuracy: 0.8592 - val_loss: 1.6840 - val_accuracy: 0.4895\n"
     ]
    }
   ],
   "source": [
    "# 載入 Callbacks\n",
    "\"\"\"Code Here\n",
    "設定 callbacks: model checkpoint\n",
    "\"\"\"\n",
    "from keras.callbacks import ModelCheckpoint\n",
    "\n",
    "model_ckpt = ModelCheckpoint(filepath=\"./tmp.h5\", \n",
    "                             monitor=\"val_loss\", \n",
    "                             save_best_only=True)\n",
    "\n",
    "results = {}\n",
    "\"\"\"Code Here\n",
    "撰寫你的訓練流程並將結果用 dictionary 紀錄\n",
    "\"\"\"\n",
    "keras.backend.clear_session() # 把舊的 Graph 清掉\n",
    "print(\"Experiment with save_best_only=1\")\n",
    "\n",
    "model = build_mlp(input_shape=x_train.shape[1:])\n",
    "model.summary()\n",
    "optimizer = keras.optimizers.SGD(lr=LEARNING_RATE, nesterov=True, momentum=MOMENTUM)\n",
    "model.compile(loss=\"categorical_crossentropy\", metrics=[\"accuracy\"], optimizer=optimizer)\n",
    "\n",
    "model.fit(x_train, y_train, \n",
    "          epochs=EPOCHS, \n",
    "          batch_size=BATCH_SIZE, \n",
    "          validation_data=(x_test, y_test), \n",
    "          shuffle=True,\n",
    "          callbacks=[model_ckpt])\n",
    "    \n",
    "# Collect results\n",
    "train_loss = model.history.history[\"loss\"]\n",
    "valid_loss = model.history.history[\"val_loss\"]\n",
    "train_acc = model.history.history[\"accuracy\"]\n",
    "valid_acc = model.history.history[\"val_accuracy\"]\n",
    "    \n",
    "exp_name_tag = \"exp-save_best_only=1\" \n",
    "results[exp_name_tag] = {'train-loss': train_loss,\n",
    "                         'valid-loss': valid_loss,\n",
    "                         'train-acc': train_acc,\n",
    "                         'valid-acc': valid_acc}"
   ]
  },
  {
   "cell_type": "code",
   "execution_count": 8,
   "metadata": {},
   "outputs": [
    {
     "name": "stdout",
     "output_type": "stream",
     "text": [
      "10000/10000 [==============================] - 1s 95us/step\n"
     ]
    }
   ],
   "source": [
    "# Load back\n",
    "model = keras.models.load_model(\"./tmp.h5\")\n",
    "loss_loadback, acc_loadback = model.evaluate(x_test, y_test)"
   ]
  },
  {
   "cell_type": "code",
   "execution_count": 11,
   "metadata": {
    "scrolled": false
   },
   "outputs": [
    {
     "data": {
      "image/png": "[encoded data removed]",
      "text/plain": [
       "<Figure size 288x216 with 1 Axes>"
      ]
     },
     "metadata": {
      "needs_background": "light"
     },
     "output_type": "display_data"
    },
    {
     "data": {
      "image/png": "[encoded data removed]",
      "text/plain": [
       "<Figure size 288x216 with 1 Axes>"
      ]
     },
     "metadata": {
      "needs_background": "light"
     },
     "output_type": "display_data"
    }
   ],
   "source": [
    "import matplotlib.pyplot as plt\n",
    "%matplotlib inline\n",
    "\"\"\"Code Here\n",
    "將結果繪出\n",
    "\"\"\"\n",
    "NUM_COLORS = len(results.keys())\n",
    "cm = plt.get_cmap('gist_rainbow')\n",
    "color_bar = [cm(1.*i/NUM_COLORS) for i in range(NUM_COLORS)]\n",
    "\n",
    "plt.figure(figsize=(4,3))\n",
    "for i, cond in enumerate(results.keys()):\n",
    "    plt.plot(range(len(results[cond]['train-loss'])),results[cond]['train-loss'], '-', label=cond, color=color_bar[i])\n",
    "    plt.plot(range(len(results[cond]['valid-loss'])),results[cond]['valid-loss'], '--', label=cond, color=color_bar[i])\n",
    "plt.title(\"Loss\")\n",
    "plt.hlines(y=acc_loadback, xmin=0, xmax=len(train_loss), colors='b', linestyles='--')\n",
    "plt.legend(loc='center left', bbox_to_anchor=(1, 0.5))\n",
    "plt.show()\n",
    "\n",
    "plt.figure(figsize=(4,3))\n",
    "for i, cond in enumerate(results.keys()):\n",
    "    plt.plot(range(len(results[cond]['train-acc'])),results[cond]['train-acc'], '-', label=cond, color=color_bar[i])\n",
    "    plt.plot(range(len(results[cond]['valid-acc'])),results[cond]['valid-acc'], '--', label=cond, color=color_bar[i])\n",
    "plt.title(\"Accuracy\")\n",
    "plt.hlines(y=acc_loadback, xmin=0, xmax=len(train_loss), colors='b', linestyles='--')\n",
    "plt.legend(loc='center left', bbox_to_anchor=(1, 0.5))\n",
    "plt.show()"
   ]
  },
  {
   "cell_type": "markdown",
   "metadata": {},
   "source": [
    "# 1.save_best_only=False"
   ]
  },
  {
   "cell_type": "code",
   "execution_count": 12,
   "metadata": {
    "scrolled": true
   },
   "outputs": [
    {
     "name": "stdout",
     "output_type": "stream",
     "text": [
      "Experiment with save_best_only=0\n",
      "Model: \"model_1\"\n",
      "_________________________________________________________________\n",
      "Layer (type)                 Output Shape              Param #   \n",
      "=================================================================\n",
      "input_1 (InputLayer)         (None, 3072)              0         \n",
      "_________________________________________________________________\n",
      "hidden_layer1 (Dense)        (None, 512)               1573376   \n",
      "_________________________________________________________________\n",
      "batch_normalization_1 (Batch (None, 512)               2048      \n",
      "_________________________________________________________________\n",
      "hidden_layer2 (Dense)        (None, 256)               131328    \n",
      "_________________________________________________________________\n",
      "batch_normalization_2 (Batch (None, 256)               1024      \n",
      "_________________________________________________________________\n",
      "hidden_layer3 (Dense)        (None, 128)               32896     \n",
      "_________________________________________________________________\n",
      "batch_normalization_3 (Batch (None, 128)               512       \n",
      "_________________________________________________________________\n",
      "output (Dense)               (None, 10)                1290      \n",
      "=================================================================\n",
      "Total params: 1,742,474\n",
      "Trainable params: 1,740,682\n",
      "Non-trainable params: 1,792\n",
      "_________________________________________________________________\n",
      "Train on 50000 samples, validate on 10000 samples\n",
      "Epoch 1/50\n",
      "50000/50000 [==============================] - 3s 57us/step - loss: 2.1936 - accuracy: 0.2734 - val_loss: 2.0998 - val_accuracy: 0.2262\n",
      "Epoch 2/50\n",
      "50000/50000 [==============================] - 2s 46us/step - loss: 1.7326 - accuracy: 0.3960 - val_loss: 1.9554 - val_accuracy: 0.3075\n",
      "Epoch 3/50\n",
      "50000/50000 [==============================] - 2s 47us/step - loss: 1.6070 - accuracy: 0.4350 - val_loss: 1.8332 - val_accuracy: 0.3473\n",
      "Epoch 4/50\n",
      "50000/50000 [==============================] - 2s 49us/step - loss: 1.5330 - accuracy: 0.4635 - val_loss: 1.7117 - val_accuracy: 0.4004\n",
      "Epoch 5/50\n",
      "50000/50000 [==============================] - 2s 46us/step - loss: 1.4795 - accuracy: 0.4825 - val_loss: 1.6460 - val_accuracy: 0.4267\n",
      "Epoch 6/50\n",
      "50000/50000 [==============================] - 2s 46us/step - loss: 1.4353 - accuracy: 0.4994 - val_loss: 1.5957 - val_accuracy: 0.4355\n",
      "Epoch 7/50\n",
      "50000/50000 [==============================] - 2s 48us/step - loss: 1.3951 - accuracy: 0.5138 - val_loss: 1.5470 - val_accuracy: 0.4576\n",
      "Epoch 8/50\n",
      "50000/50000 [==============================] - 2s 45us/step - loss: 1.3581 - accuracy: 0.5273 - val_loss: 1.5355 - val_accuracy: 0.4539\n",
      "Epoch 9/50\n",
      "50000/50000 [==============================] - 2s 44us/step - loss: 1.3259 - accuracy: 0.5377 - val_loss: 1.5085 - val_accuracy: 0.4672\n",
      "Epoch 10/50\n",
      "50000/50000 [==============================] - 2s 45us/step - loss: 1.2975 - accuracy: 0.5487 - val_loss: 1.4936 - val_accuracy: 0.4692\n",
      "Epoch 11/50\n",
      "50000/50000 [==============================] - 2s 47us/step - loss: 1.2676 - accuracy: 0.5594 - val_loss: 1.4751 - val_accuracy: 0.4821\n",
      "Epoch 12/50\n",
      "50000/50000 [==============================] - 2s 46us/step - loss: 1.2405 - accuracy: 0.5713 - val_loss: 1.4852 - val_accuracy: 0.4796\n",
      "Epoch 13/50\n",
      "50000/50000 [==============================] - 2s 46us/step - loss: 1.2137 - accuracy: 0.5810 - val_loss: 1.4719 - val_accuracy: 0.4840\n",
      "Epoch 14/50\n",
      "50000/50000 [==============================] - 2s 47us/step - loss: 1.1876 - accuracy: 0.5894 - val_loss: 1.4658 - val_accuracy: 0.4833\n",
      "Epoch 15/50\n",
      "50000/50000 [==============================] - 2s 47us/step - loss: 1.1665 - accuracy: 0.5997 - val_loss: 1.4625 - val_accuracy: 0.4883\n",
      "Epoch 16/50\n",
      "50000/50000 [==============================] - 2s 46us/step - loss: 1.1409 - accuracy: 0.6079 - val_loss: 1.4644 - val_accuracy: 0.4857\n",
      "Epoch 17/50\n",
      "50000/50000 [==============================] - 2s 44us/step - loss: 1.1177 - accuracy: 0.6169 - val_loss: 1.4570 - val_accuracy: 0.4890\n",
      "Epoch 18/50\n",
      "50000/50000 [==============================] - 2s 44us/step - loss: 1.0959 - accuracy: 0.6254 - val_loss: 1.4585 - val_accuracy: 0.4944\n",
      "Epoch 19/50\n",
      "50000/50000 [==============================] - 2s 46us/step - loss: 1.0737 - accuracy: 0.6324 - val_loss: 1.4784 - val_accuracy: 0.4803\n",
      "Epoch 20/50\n",
      "50000/50000 [==============================] - 2s 47us/step - loss: 1.0520 - accuracy: 0.6419 - val_loss: 1.4598 - val_accuracy: 0.4936\n",
      "Epoch 21/50\n",
      "50000/50000 [==============================] - 2s 44us/step - loss: 1.0301 - accuracy: 0.6514 - val_loss: 1.4670 - val_accuracy: 0.4914\n",
      "Epoch 22/50\n",
      "50000/50000 [==============================] - 2s 44us/step - loss: 1.0092 - accuracy: 0.6570 - val_loss: 1.4644 - val_accuracy: 0.4946\n",
      "Epoch 23/50\n",
      "50000/50000 [==============================] - 2s 45us/step - loss: 0.9894 - accuracy: 0.6646 - val_loss: 1.4612 - val_accuracy: 0.4968\n",
      "Epoch 24/50\n",
      "50000/50000 [==============================] - 2s 46us/step - loss: 0.9690 - accuracy: 0.6723 - val_loss: 1.4662 - val_accuracy: 0.4954\n",
      "Epoch 25/50\n",
      "50000/50000 [==============================] - 2s 45us/step - loss: 0.9472 - accuracy: 0.6818 - val_loss: 1.4715 - val_accuracy: 0.4900\n",
      "Epoch 26/50\n",
      "50000/50000 [==============================] - 2s 46us/step - loss: 0.9268 - accuracy: 0.6924 - val_loss: 1.4761 - val_accuracy: 0.4958\n",
      "Epoch 27/50\n",
      "50000/50000 [==============================] - 2s 46us/step - loss: 0.9061 - accuracy: 0.6992 - val_loss: 1.4842 - val_accuracy: 0.4908\n",
      "Epoch 28/50\n",
      "50000/50000 [==============================] - 2s 45us/step - loss: 0.8885 - accuracy: 0.7041 - val_loss: 1.4790 - val_accuracy: 0.4975\n",
      "Epoch 29/50\n",
      "50000/50000 [==============================] - 2s 46us/step - loss: 0.8655 - accuracy: 0.7142 - val_loss: 1.4801 - val_accuracy: 0.4930\n",
      "Epoch 30/50\n",
      "50000/50000 [==============================] - 2s 44us/step - loss: 0.8450 - accuracy: 0.7218 - val_loss: 1.4978 - val_accuracy: 0.4904\n",
      "Epoch 31/50\n",
      "50000/50000 [==============================] - 2s 44us/step - loss: 0.8262 - accuracy: 0.7306 - val_loss: 1.4995 - val_accuracy: 0.4891\n",
      "Epoch 32/50\n",
      "50000/50000 [==============================] - 2s 44us/step - loss: 0.8064 - accuracy: 0.7385 - val_loss: 1.5114 - val_accuracy: 0.4905\n",
      "Epoch 33/50\n",
      "50000/50000 [==============================] - 2s 44us/step - loss: 0.7883 - accuracy: 0.7451 - val_loss: 1.5063 - val_accuracy: 0.4986\n",
      "Epoch 34/50\n",
      "50000/50000 [==============================] - 2s 45us/step - loss: 0.7697 - accuracy: 0.7538 - val_loss: 1.5243 - val_accuracy: 0.4900\n",
      "Epoch 35/50\n",
      "50000/50000 [==============================] - 2s 46us/step - loss: 0.7498 - accuracy: 0.7612 - val_loss: 1.5394 - val_accuracy: 0.4887\n",
      "Epoch 36/50\n",
      "50000/50000 [==============================] - 2s 46us/step - loss: 0.7307 - accuracy: 0.7682 - val_loss: 1.5539 - val_accuracy: 0.4893\n",
      "Epoch 37/50\n",
      "50000/50000 [==============================] - 2s 46us/step - loss: 0.7119 - accuracy: 0.7766 - val_loss: 1.5356 - val_accuracy: 0.4974\n",
      "Epoch 38/50\n",
      "50000/50000 [==============================] - 2s 46us/step - loss: 0.6922 - accuracy: 0.7845 - val_loss: 1.5547 - val_accuracy: 0.4905\n",
      "Epoch 39/50\n",
      "50000/50000 [==============================] - 2s 46us/step - loss: 0.6764 - accuracy: 0.7914 - val_loss: 1.5785 - val_accuracy: 0.4901\n",
      "Epoch 40/50\n",
      "50000/50000 [==============================] - 2s 46us/step - loss: 0.6555 - accuracy: 0.7983 - val_loss: 1.5975 - val_accuracy: 0.4865\n",
      "Epoch 41/50\n",
      "50000/50000 [==============================] - 2s 45us/step - loss: 0.6377 - accuracy: 0.8063 - val_loss: 1.5765 - val_accuracy: 0.4955\n",
      "Epoch 42/50\n",
      "50000/50000 [==============================] - 2s 45us/step - loss: 0.6197 - accuracy: 0.8139 - val_loss: 1.5977 - val_accuracy: 0.4890\n",
      "Epoch 43/50\n",
      "50000/50000 [==============================] - 2s 46us/step - loss: 0.6027 - accuracy: 0.8193 - val_loss: 1.6058 - val_accuracy: 0.4896\n",
      "Epoch 44/50\n",
      "50000/50000 [==============================] - 2s 46us/step - loss: 0.5844 - accuracy: 0.8263 - val_loss: 1.6230 - val_accuracy: 0.4840\n",
      "Epoch 45/50\n",
      "50000/50000 [==============================] - 2s 46us/step - loss: 0.5667 - accuracy: 0.8329 - val_loss: 1.6438 - val_accuracy: 0.4868\n",
      "Epoch 46/50\n"
     ]
    },
    {
     "name": "stdout",
     "output_type": "stream",
     "text": [
      "50000/50000 [==============================] - 2s 46us/step - loss: 0.5496 - accuracy: 0.8385 - val_loss: 1.6423 - val_accuracy: 0.4898\n",
      "Epoch 47/50\n",
      "50000/50000 [==============================] - 2s 46us/step - loss: 0.5343 - accuracy: 0.8467 - val_loss: 1.6787 - val_accuracy: 0.4821\n",
      "Epoch 48/50\n",
      "50000/50000 [==============================] - 2s 47us/step - loss: 0.5179 - accuracy: 0.8530 - val_loss: 1.6915 - val_accuracy: 0.4873\n",
      "Epoch 49/50\n",
      "50000/50000 [==============================] - 2s 48us/step - loss: 0.4994 - accuracy: 0.8596 - val_loss: 1.6876 - val_accuracy: 0.4783\n",
      "Epoch 50/50\n",
      "50000/50000 [==============================] - 2s 45us/step - loss: 0.4820 - accuracy: 0.8653 - val_loss: 1.7064 - val_accuracy: 0.4872\n"
     ]
    }
   ],
   "source": [
    "# 載入 Callbacks\n",
    "\"\"\"Code Here\n",
    "設定 callbacks: model checkpoint\n",
    "\"\"\"\n",
    "model_ckpt = ModelCheckpoint(filepath=\"./tmp2.h5\", \n",
    "                             monitor=\"val_loss\", \n",
    "                             save_best_only=False)\n",
    "\n",
    "\"\"\"Code Here\n",
    "撰寫你的訓練流程並將結果用 dictionary 紀錄\n",
    "\"\"\"\n",
    "keras.backend.clear_session() # 把舊的 Graph 清掉\n",
    "print(\"Experiment with save_best_only=0\")\n",
    "\n",
    "model = build_mlp(input_shape=x_train.shape[1:])\n",
    "model.summary()\n",
    "optimizer = keras.optimizers.SGD(lr=LEARNING_RATE, nesterov=True, momentum=MOMENTUM)\n",
    "model.compile(loss=\"categorical_crossentropy\", metrics=[\"accuracy\"], optimizer=optimizer)\n",
    "\n",
    "model.fit(x_train, y_train, \n",
    "          epochs=EPOCHS, \n",
    "          batch_size=BATCH_SIZE, \n",
    "          validation_data=(x_test, y_test), \n",
    "          shuffle=True,\n",
    "          callbacks=[model_ckpt])\n",
    "    \n",
    "# Collect results\n",
    "train_loss = model.history.history[\"loss\"]\n",
    "valid_loss = model.history.history[\"val_loss\"]\n",
    "train_acc = model.history.history[\"accuracy\"]\n",
    "valid_acc = model.history.history[\"val_accuracy\"]\n",
    "    \n",
    "exp_name_tag = \"exp-save_best_only=0\"\n",
    "results[exp_name_tag] = {'train-loss': train_loss,\n",
    "                         'valid-loss': valid_loss,\n",
    "                         'train-acc': train_acc,\n",
    "                         'valid-acc': valid_acc}"
   ]
  },
  {
   "cell_type": "code",
   "execution_count": 13,
   "metadata": {},
   "outputs": [
    {
     "name": "stdout",
     "output_type": "stream",
     "text": [
      "10000/10000 [==============================] - 1s 96us/step\n"
     ]
    }
   ],
   "source": [
    "# Load back\n",
    "model = keras.models.load_model(\"./tmp2.h5\")\n",
    "loss_loadback, acc_loadback = model.evaluate(x_test, y_test)"
   ]
  },
  {
   "cell_type": "code",
   "execution_count": 14,
   "metadata": {},
   "outputs": [
    {
     "name": "stdout",
     "output_type": "stream",
     "text": [
      "10000/10000 [==============================] - 1s 95us/step\n"
     ]
    }
   ],
   "source": [
    "model = keras.models.load_model(\"./tmp.h5\")\n",
    "loss_loadback1, acc_loadback1 = model.evaluate(x_test, y_test)"
   ]
  },
  {
   "cell_type": "code",
   "execution_count": 16,
   "metadata": {},
   "outputs": [
    {
     "data": {
      "image/png": "[encoded data removed]",
      "text/plain": [
       "<Figure size 576x432 with 1 Axes>"
      ]
     },
     "metadata": {
      "needs_background": "light"
     },
     "output_type": "display_data"
    },
    {
     "data": {
      "image/png": "[encoded data removed]",
      "text/plain": [
       "<Figure size 576x432 with 1 Axes>"
      ]
     },
     "metadata": {
      "needs_background": "light"
     },
     "output_type": "display_data"
    }
   ],
   "source": [
    "\"\"\"Code Here\n",
    "將結果繪出\n",
    "\"\"\"\n",
    "NUM_COLORS = len(results.keys())\n",
    "cm = plt.get_cmap('gist_rainbow')\n",
    "color_bar = [cm(1.*i/NUM_COLORS) for i in range(NUM_COLORS)]\n",
    "\n",
    "plt.figure(figsize=(8,6))\n",
    "for i, cond in enumerate(results.keys()):\n",
    "    plt.plot(range(len(results[cond]['train-loss'])),results[cond]['train-loss'], '-', label=cond, color=color_bar[i])\n",
    "    plt.plot(range(len(results[cond]['valid-loss'])),results[cond]['valid-loss'], '--', label=cond, color=color_bar[i])\n",
    "plt.title(\"Loss\")\n",
    "plt.hlines(y=acc_loadback, xmin=0, xmax=len(train_loss), colors='r', linestyles='--')\n",
    "plt.hlines(y=acc_loadback1, xmin=0, xmax=len(train_loss), colors='b', linestyles='--')\n",
    "plt.legend(loc='center left', bbox_to_anchor=(1, 0.5))\n",
    "plt.show()\n",
    "\n",
    "plt.figure(figsize=(8,6))\n",
    "for i, cond in enumerate(results.keys()):\n",
    "    plt.plot(range(len(results[cond]['train-acc'])),results[cond]['train-acc'], '-', label=cond, color=color_bar[i])\n",
    "    plt.plot(range(len(results[cond]['valid-acc'])),results[cond]['valid-acc'], '--', label=cond, color=color_bar[i])\n",
    "plt.title(\"Accuracy\")\n",
    "plt.hlines(y=acc_loadback, xmin=0, xmax=len(train_loss), colors='r', linestyles='--')\n",
    "plt.hlines(y=acc_loadback1, xmin=0, xmax=len(train_loss), colors='b', linestyles='--')\n",
    "plt.legend(loc='center left', bbox_to_anchor=(1, 0.5))\n",
    "plt.show()"
   ]
  },
  {
   "cell_type": "markdown",
   "metadata": {},
   "source": [
    "# 2.save_weights_only=True"
   ]
  },
  {
   "cell_type": "code",
   "execution_count": 17,
   "metadata": {
    "scrolled": true
   },
   "outputs": [
    {
     "name": "stdout",
     "output_type": "stream",
     "text": [
      "Experiment with save_weights_only=True\n",
      "Model: \"model_1\"\n",
      "_________________________________________________________________\n",
      "Layer (type)                 Output Shape              Param #   \n",
      "=================================================================\n",
      "input_1 (InputLayer)         (None, 3072)              0         \n",
      "_________________________________________________________________\n",
      "hidden_layer1 (Dense)        (None, 512)               1573376   \n",
      "_________________________________________________________________\n",
      "batch_normalization_1 (Batch (None, 512)               2048      \n",
      "_________________________________________________________________\n",
      "hidden_layer2 (Dense)        (None, 256)               131328    \n",
      "_________________________________________________________________\n",
      "batch_normalization_2 (Batch (None, 256)               1024      \n",
      "_________________________________________________________________\n",
      "hidden_layer3 (Dense)        (None, 128)               32896     \n",
      "_________________________________________________________________\n",
      "batch_normalization_3 (Batch (None, 128)               512       \n",
      "_________________________________________________________________\n",
      "output (Dense)               (None, 10)                1290      \n",
      "=================================================================\n",
      "Total params: 1,742,474\n",
      "Trainable params: 1,740,682\n",
      "Non-trainable params: 1,792\n",
      "_________________________________________________________________\n",
      "Train on 50000 samples, validate on 10000 samples\n",
      "Epoch 1/50\n",
      "50000/50000 [==============================] - 3s 55us/step - loss: 2.2213 - accuracy: 0.2688 - val_loss: 2.0893 - val_accuracy: 0.2320\n",
      "Epoch 2/50\n",
      "50000/50000 [==============================] - 2s 46us/step - loss: 1.7403 - accuracy: 0.3936 - val_loss: 1.9323 - val_accuracy: 0.3274\n",
      "Epoch 3/50\n",
      "50000/50000 [==============================] - 2s 45us/step - loss: 1.6141 - accuracy: 0.4354 - val_loss: 1.8132 - val_accuracy: 0.3732\n",
      "Epoch 4/50\n",
      "50000/50000 [==============================] - 2s 46us/step - loss: 1.5403 - accuracy: 0.4620 - val_loss: 1.7166 - val_accuracy: 0.4067\n",
      "Epoch 5/50\n",
      "50000/50000 [==============================] - 2s 47us/step - loss: 1.4830 - accuracy: 0.4808 - val_loss: 1.6501 - val_accuracy: 0.4191\n",
      "Epoch 6/50\n",
      "50000/50000 [==============================] - 2s 47us/step - loss: 1.4372 - accuracy: 0.4983 - val_loss: 1.5965 - val_accuracy: 0.4345\n",
      "Epoch 7/50\n",
      "50000/50000 [==============================] - 2s 46us/step - loss: 1.3978 - accuracy: 0.5124 - val_loss: 1.5482 - val_accuracy: 0.4513\n",
      "Epoch 8/50\n",
      "50000/50000 [==============================] - 2s 46us/step - loss: 1.3639 - accuracy: 0.5231 - val_loss: 1.5243 - val_accuracy: 0.4619\n",
      "Epoch 9/50\n",
      "50000/50000 [==============================] - 2s 44us/step - loss: 1.3325 - accuracy: 0.5369 - val_loss: 1.5048 - val_accuracy: 0.4674\n",
      "Epoch 10/50\n",
      "50000/50000 [==============================] - 2s 46us/step - loss: 1.3014 - accuracy: 0.5489 - val_loss: 1.4979 - val_accuracy: 0.4678\n",
      "Epoch 11/50\n",
      "50000/50000 [==============================] - 2s 45us/step - loss: 1.2719 - accuracy: 0.5574 - val_loss: 1.4921 - val_accuracy: 0.4711\n",
      "Epoch 12/50\n",
      "50000/50000 [==============================] - 2s 45us/step - loss: 1.2459 - accuracy: 0.5668 - val_loss: 1.4841 - val_accuracy: 0.4724\n",
      "Epoch 13/50\n",
      "50000/50000 [==============================] - 2s 46us/step - loss: 1.2200 - accuracy: 0.5752 - val_loss: 1.4918 - val_accuracy: 0.4745\n",
      "Epoch 14/50\n",
      "50000/50000 [==============================] - 2s 45us/step - loss: 1.1957 - accuracy: 0.5862 - val_loss: 1.4771 - val_accuracy: 0.4811\n",
      "Epoch 15/50\n",
      "50000/50000 [==============================] - 2s 46us/step - loss: 1.1721 - accuracy: 0.5953 - val_loss: 1.4802 - val_accuracy: 0.4802\n",
      "Epoch 16/50\n",
      "50000/50000 [==============================] - 2s 45us/step - loss: 1.1490 - accuracy: 0.6041 - val_loss: 1.4828 - val_accuracy: 0.4742\n",
      "Epoch 17/50\n",
      "50000/50000 [==============================] - 2s 45us/step - loss: 1.1270 - accuracy: 0.6107 - val_loss: 1.4763 - val_accuracy: 0.4815\n",
      "Epoch 18/50\n",
      "50000/50000 [==============================] - 2s 45us/step - loss: 1.1040 - accuracy: 0.6217 - val_loss: 1.4672 - val_accuracy: 0.4834\n",
      "Epoch 19/50\n",
      "50000/50000 [==============================] - 2s 46us/step - loss: 1.0804 - accuracy: 0.6308 - val_loss: 1.4624 - val_accuracy: 0.4846\n",
      "Epoch 20/50\n",
      "50000/50000 [==============================] - 2s 46us/step - loss: 1.0579 - accuracy: 0.6396 - val_loss: 1.4675 - val_accuracy: 0.4890\n",
      "Epoch 21/50\n",
      "50000/50000 [==============================] - 2s 45us/step - loss: 1.0389 - accuracy: 0.6464 - val_loss: 1.4583 - val_accuracy: 0.4874\n",
      "Epoch 22/50\n",
      "50000/50000 [==============================] - 2s 45us/step - loss: 1.0166 - accuracy: 0.6555 - val_loss: 1.4657 - val_accuracy: 0.4866\n",
      "Epoch 23/50\n",
      "50000/50000 [==============================] - 2s 47us/step - loss: 0.9946 - accuracy: 0.6642 - val_loss: 1.4759 - val_accuracy: 0.4868\n",
      "Epoch 24/50\n",
      "50000/50000 [==============================] - 2s 46us/step - loss: 0.9737 - accuracy: 0.6703 - val_loss: 1.4625 - val_accuracy: 0.4938\n",
      "Epoch 25/50\n",
      "50000/50000 [==============================] - 2s 45us/step - loss: 0.9539 - accuracy: 0.6796 - val_loss: 1.4769 - val_accuracy: 0.4926\n",
      "Epoch 26/50\n",
      "50000/50000 [==============================] - 2s 45us/step - loss: 0.9341 - accuracy: 0.6859 - val_loss: 1.4808 - val_accuracy: 0.4950\n",
      "Epoch 27/50\n",
      "50000/50000 [==============================] - 2s 47us/step - loss: 0.9116 - accuracy: 0.6968 - val_loss: 1.4830 - val_accuracy: 0.4887\n",
      "Epoch 28/50\n",
      "50000/50000 [==============================] - 2s 46us/step - loss: 0.8933 - accuracy: 0.7035 - val_loss: 1.4968 - val_accuracy: 0.4934\n",
      "Epoch 29/50\n",
      "50000/50000 [==============================] - 2s 47us/step - loss: 0.8748 - accuracy: 0.7095 - val_loss: 1.4932 - val_accuracy: 0.4924\n",
      "Epoch 30/50\n",
      "50000/50000 [==============================] - 2s 44us/step - loss: 0.8540 - accuracy: 0.7188 - val_loss: 1.4848 - val_accuracy: 0.4952\n",
      "Epoch 31/50\n",
      "50000/50000 [==============================] - 2s 46us/step - loss: 0.8313 - accuracy: 0.7282 - val_loss: 1.5019 - val_accuracy: 0.4900\n",
      "Epoch 32/50\n",
      "50000/50000 [==============================] - 2s 47us/step - loss: 0.8131 - accuracy: 0.7357 - val_loss: 1.5194 - val_accuracy: 0.4938\n",
      "Epoch 33/50\n",
      "50000/50000 [==============================] - 2s 45us/step - loss: 0.7941 - accuracy: 0.7429 - val_loss: 1.5094 - val_accuracy: 0.4935\n",
      "Epoch 34/50\n",
      "50000/50000 [==============================] - 2s 45us/step - loss: 0.7739 - accuracy: 0.7524 - val_loss: 1.5220 - val_accuracy: 0.4900\n",
      "Epoch 35/50\n",
      "50000/50000 [==============================] - 2s 45us/step - loss: 0.7550 - accuracy: 0.7580 - val_loss: 1.5366 - val_accuracy: 0.4901\n",
      "Epoch 36/50\n",
      "50000/50000 [==============================] - 2s 48us/step - loss: 0.7353 - accuracy: 0.7648 - val_loss: 1.5340 - val_accuracy: 0.4921\n",
      "Epoch 37/50\n",
      "50000/50000 [==============================] - 2s 45us/step - loss: 0.7164 - accuracy: 0.7725 - val_loss: 1.5382 - val_accuracy: 0.4906\n",
      "Epoch 38/50\n",
      "50000/50000 [==============================] - 2s 46us/step - loss: 0.6959 - accuracy: 0.7825 - val_loss: 1.5580 - val_accuracy: 0.4856\n",
      "Epoch 39/50\n",
      "50000/50000 [==============================] - 2s 45us/step - loss: 0.6783 - accuracy: 0.7888 - val_loss: 1.5671 - val_accuracy: 0.4882\n",
      "Epoch 40/50\n",
      "50000/50000 [==============================] - 2s 46us/step - loss: 0.6593 - accuracy: 0.7946 - val_loss: 1.5755 - val_accuracy: 0.4909\n",
      "Epoch 41/50\n",
      "50000/50000 [==============================] - 2s 46us/step - loss: 0.6411 - accuracy: 0.8036 - val_loss: 1.5786 - val_accuracy: 0.4872\n",
      "Epoch 42/50\n",
      "50000/50000 [==============================] - 2s 45us/step - loss: 0.6225 - accuracy: 0.8116 - val_loss: 1.5944 - val_accuracy: 0.4854\n",
      "Epoch 43/50\n",
      "50000/50000 [==============================] - 2s 47us/step - loss: 0.6040 - accuracy: 0.8188 - val_loss: 1.6038 - val_accuracy: 0.4862\n",
      "Epoch 44/50\n",
      "50000/50000 [==============================] - 2s 49us/step - loss: 0.5891 - accuracy: 0.8233 - val_loss: 1.6185 - val_accuracy: 0.4865\n",
      "Epoch 45/50\n",
      "50000/50000 [==============================] - 2s 46us/step - loss: 0.5701 - accuracy: 0.8309 - val_loss: 1.6249 - val_accuracy: 0.4870\n",
      "Epoch 46/50\n"
     ]
    },
    {
     "name": "stdout",
     "output_type": "stream",
     "text": [
      "50000/50000 [==============================] - 2s 46us/step - loss: 0.5522 - accuracy: 0.8398 - val_loss: 1.6304 - val_accuracy: 0.4878\n",
      "Epoch 47/50\n",
      "50000/50000 [==============================] - 2s 45us/step - loss: 0.5345 - accuracy: 0.8455 - val_loss: 1.6379 - val_accuracy: 0.4885\n",
      "Epoch 48/50\n",
      "50000/50000 [==============================] - 2s 45us/step - loss: 0.5182 - accuracy: 0.8525 - val_loss: 1.6600 - val_accuracy: 0.4865\n",
      "Epoch 49/50\n",
      "50000/50000 [==============================] - 2s 47us/step - loss: 0.5030 - accuracy: 0.8588 - val_loss: 1.6853 - val_accuracy: 0.4831\n",
      "Epoch 50/50\n",
      "50000/50000 [==============================] - 2s 46us/step - loss: 0.4864 - accuracy: 0.8655 - val_loss: 1.6839 - val_accuracy: 0.4854\n"
     ]
    }
   ],
   "source": [
    "# 載入 Callbacks\n",
    "\"\"\"Code Here\n",
    "設定 callbacks: model checkpoint\n",
    "\"\"\"\n",
    "from keras.callbacks import ModelCheckpoint\n",
    "\n",
    "model_ckpt = ModelCheckpoint(filepath=\"./tmp3.h5\", \n",
    "                             monitor=\"val_loss\", \n",
    "                             save_best_only=True,\n",
    "                             save_weights_only=True)\n",
    "\n",
    "results = {}\n",
    "\"\"\"Code Here\n",
    "撰寫你的訓練流程並將結果用 dictionary 紀錄\n",
    "\"\"\"\n",
    "keras.backend.clear_session() # 把舊的 Graph 清掉\n",
    "print(\"Experiment with save_weights_only=True\")\n",
    "\n",
    "model = build_mlp(input_shape=x_train.shape[1:])\n",
    "model.summary()\n",
    "optimizer = keras.optimizers.SGD(lr=LEARNING_RATE, nesterov=True, momentum=MOMENTUM)\n",
    "model.compile(loss=\"categorical_crossentropy\", metrics=[\"accuracy\"], optimizer=optimizer)\n",
    "\n",
    "model.fit(x_train, y_train, \n",
    "          epochs=EPOCHS, \n",
    "          batch_size=BATCH_SIZE, \n",
    "          validation_data=(x_test, y_test), \n",
    "          shuffle=True,\n",
    "          callbacks=[model_ckpt])\n",
    "    \n",
    "# Collect results\n",
    "train_loss = model.history.history[\"loss\"]\n",
    "valid_loss = model.history.history[\"val_loss\"]\n",
    "train_acc = model.history.history[\"accuracy\"]\n",
    "valid_acc = model.history.history[\"val_accuracy\"]\n",
    "    \n",
    "exp_name_tag = \"exp-save_weights_only=1\" \n",
    "results[exp_name_tag] = {'train-loss': train_loss,\n",
    "                         'valid-loss': valid_loss,\n",
    "                         'train-acc': train_acc,\n",
    "                         'valid-acc': valid_acc}"
   ]
  },
  {
   "cell_type": "code",
   "execution_count": 23,
   "metadata": {},
   "outputs": [
    {
     "data": {
      "image/png": "[encoded data removed]",
      "text/plain": [
       "<Figure size 432x288 with 1 Axes>"
      ]
     },
     "metadata": {
      "needs_background": "light"
     },
     "output_type": "display_data"
    },
    {
     "data": {
      "image/png": "[encoded data removed]",
      "text/plain": [
       "<Figure size 432x288 with 1 Axes>"
      ]
     },
     "metadata": {
      "needs_background": "light"
     },
     "output_type": "display_data"
    }
   ],
   "source": [
    "import matplotlib.pyplot as plt\n",
    "%matplotlib inline\n",
    "\n",
    "plt.plot(range(len(train_loss)), train_loss, label=\"train loss\")\n",
    "plt.plot(range(len(valid_loss)), valid_loss, label=\"valid loss\")\n",
    "plt.legend()\n",
    "plt.title(\"Loss\")\n",
    "plt.show()\n",
    "\n",
    "plt.plot(range(len(train_acc)), train_acc, label=\"train accuracy\")\n",
    "plt.plot(range(len(valid_acc)), valid_acc, label=\"valid accuracy\")\n",
    "plt.legend()\n",
    "plt.title(\"Accuracy\")\n",
    "plt.show()"
   ]
  },
  {
   "cell_type": "code",
   "execution_count": 29,
   "metadata": {},
   "outputs": [
    {
     "data": {
      "text/plain": [
       "array([[1.15683209e-02, 6.86106132e-03, 1.06722564e-01, 1.28901243e-01,\n",
       "        1.08191244e-01, 1.35669950e-02, 5.81427574e-01, 4.23509590e-02,\n",
       "        2.12169864e-04, 1.97846879e-04],\n",
       "       [1.73292998e-02, 8.64365473e-02, 1.30235951e-03, 5.31818159e-03,\n",
       "        9.61610232e-04, 3.20535228e-02, 7.53443863e-04, 1.35433108e-01,\n",
       "        5.97314648e-02, 6.60680413e-01]], dtype=float32)"
      ]
     },
     "execution_count": 29,
     "metadata": {},
     "output_type": "execute_result"
    }
   ],
   "source": [
    "model.predict(x_train[0:2])"
   ]
  },
  {
   "cell_type": "code",
   "execution_count": 1,
   "metadata": {},
   "outputs": [
    {
     "name": "stderr",
     "output_type": "stream",
     "text": [
      "Using TensorFlow backend.\n"
     ]
    }
   ],
   "source": [
    "import keras\n",
    "from keras.layers import BatchNormalization"
   ]
  },
  {
   "cell_type": "code",
   "execution_count": 2,
   "metadata": {},
   "outputs": [],
   "source": [
    "train, test = keras.datasets.cifar10.load_data()"
   ]
  },
  {
   "cell_type": "code",
   "execution_count": 3,
   "metadata": {},
   "outputs": [],
   "source": [
    "## 資料前處理\n",
    "def preproc_x(x, flatten=True):\n",
    "    x = x / 255.\n",
    "    if flatten:\n",
    "        x = x.reshape((len(x), -1))\n",
    "    return x\n",
    "\n",
    "def preproc_y(y, num_classes=10):\n",
    "    if y.shape[-1] == 1:\n",
    "        y = keras.utils.to_categorical(y, num_classes)\n",
    "    return y    "
   ]
  },
  {
   "cell_type": "code",
   "execution_count": 8,
   "metadata": {},
   "outputs": [],
   "source": [
    "def build_mlp(input_shape, output_units=10, num_neurons=[512, 256, 128]):\n",
    "    \"\"\"Code Here\n",
    "    建立你的神經網路\n",
    "    \"\"\"\n",
    "    input_layer = keras.layers.Input(input_shape)\n",
    "    \n",
    "    for i, n_units in enumerate(num_neurons):\n",
    "        if i == 0:\n",
    "            x = keras.layers.Dense(units=n_units, \n",
    "                                   activation=\"relu\", \n",
    "                                   name=\"hidden_layer\"+str(i+1))(input_layer)\n",
    "            x = BatchNormalization()(x)\n",
    "        else:\n",
    "            x = keras.layers.Dense(units=n_units, \n",
    "                                   activation=\"relu\", \n",
    "                                   name=\"hidden_layer\"+str(i+1))(x)\n",
    "            x = BatchNormalization()(x)\n",
    "    \n",
    "    out = keras.layers.Dense(units=output_units, activation=\"softmax\", name=\"output\")(x)\n",
    "    \n",
    "    model = keras.models.Model(inputs=[input_layer], outputs=[out])\n",
    "    return model"
   ]
  },
  {
   "cell_type": "code",
   "execution_count": 6,
   "metadata": {},
   "outputs": [],
   "source": [
    "x_train, y_train = train\n",
    "x_test, y_test = test\n",
    "\n",
    "# Preproc the inputs\n",
    "x_train = preproc_x(x_train)\n",
    "x_test = preproc_x(x_test)\n",
    "\n",
    "# Preprc the outputs\n",
    "y_train = preproc_y(y_train)\n",
    "y_test = preproc_y(y_test)"
   ]
  },
  {
   "cell_type": "code",
   "execution_count": 9,
   "metadata": {},
   "outputs": [
    {
     "name": "stdout",
     "output_type": "stream",
     "text": [
      "test after load:  [[0.00790455 0.00553803 0.05294235 0.49086645 0.02886424 0.04826418\n",
      "  0.27953637 0.08180337 0.00115743 0.00312298]\n",
      " [0.01562007 0.67058986 0.00467257 0.00477064 0.00369461 0.01326833\n",
      "  0.00128474 0.01964076 0.15647574 0.10998262]]\n"
     ]
    }
   ],
   "source": [
    "model = build_mlp(input_shape=x_train.shape[1:])\n",
    "model.load_weights(\"./tmp3.h5\")\n",
    "print(\"test after load: \", model.predict(x_train[0:2]))"
   ]
  },
  {
   "cell_type": "code",
   "execution_count": null,
   "metadata": {},
   "outputs": [],
   "source": []
  }
 ],
 "metadata": {
  "kernelspec": {
   "display_name": "Python 3",
   "language": "python",
   "name": "python3"
  },
  "language_info": {
   "codemirror_mode": {
    "name": "ipython",
    "version": 3
   },
   "file_extension": ".py",
   "mimetype": "text/x-python",
   "name": "python",
   "nbconvert_exporter": "python",
   "pygments_lexer": "ipython3",
   "version": "3.7.7"
  }
 },
 "nbformat": 4,
 "nbformat_minor": 2
}
