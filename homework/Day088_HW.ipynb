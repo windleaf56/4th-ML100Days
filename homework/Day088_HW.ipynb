{
 "cells": [
  {
   "cell_type": "markdown",
   "metadata": {},
   "source": [
    "## Work\n",
    "1. 請嘗試寫一個 callback 用來記錄各類別在訓練過程中，對驗證集的 True Positive 與 True Negative"
   ]
  },
  {
   "cell_type": "code",
   "execution_count": 1,
   "metadata": {},
   "outputs": [
    {
     "name": "stderr",
     "output_type": "stream",
     "text": [
      "Using TensorFlow backend.\n"
     ]
    }
   ],
   "source": [
    "import os\n",
    "import keras\n",
    "\n",
    "# Disable GPU\n",
    "os.environ[\"CUDA_VISIBLE_DEVICES\"] = \"\""
   ]
  },
  {
   "cell_type": "code",
   "execution_count": 2,
   "metadata": {},
   "outputs": [],
   "source": [
    "train, test = keras.datasets.cifar10.load_data()"
   ]
  },
  {
   "cell_type": "code",
   "execution_count": 3,
   "metadata": {},
   "outputs": [],
   "source": [
    "## 資料前處理\n",
    "def preproc_x(x, flatten=True):\n",
    "    x = x / 255.\n",
    "    if flatten:\n",
    "        x = x.reshape((len(x), -1))\n",
    "    return x\n",
    "\n",
    "def preproc_y(y, num_classes=10):\n",
    "    if y.shape[-1] == 1:\n",
    "        y = keras.utils.to_categorical(y, num_classes)\n",
    "    return y    "
   ]
  },
  {
   "cell_type": "code",
   "execution_count": 4,
   "metadata": {},
   "outputs": [],
   "source": [
    "x_train, y_train = train\n",
    "x_test, y_test = test\n",
    "\n",
    "# Preproc the inputs\n",
    "x_train = preproc_x(x_train)\n",
    "x_test = preproc_x(x_test)\n",
    "\n",
    "# Preprc the outputs\n",
    "y_train = preproc_y(y_train)\n",
    "y_test = preproc_y(y_test)"
   ]
  },
  {
   "cell_type": "code",
   "execution_count": 5,
   "metadata": {},
   "outputs": [],
   "source": [
    "from keras.layers import BatchNormalization\n",
    "\n",
    "\"\"\"\n",
    "建立神經網路，並加入 BN layer\n",
    "\"\"\"\n",
    "def build_mlp(input_shape, output_units=10, num_neurons=[512, 256, 128]):\n",
    "    input_layer = keras.layers.Input(input_shape)\n",
    "    \n",
    "    for i, n_units in enumerate(num_neurons):\n",
    "        if i == 0:\n",
    "            x = keras.layers.Dense(units=n_units, \n",
    "                                   activation=\"relu\", \n",
    "                                   name=\"hidden_layer\"+str(i+1))(input_layer)\n",
    "            x = BatchNormalization()(x)\n",
    "        else:\n",
    "            x = keras.layers.Dense(units=n_units, \n",
    "                                   activation=\"relu\", \n",
    "                                   name=\"hidden_layer\"+str(i+1))(x)\n",
    "            x = BatchNormalization()(x)\n",
    "    \n",
    "    out = keras.layers.Dense(units=output_units, activation=\"softmax\", name=\"output\")(x)\n",
    "    \n",
    "    model = keras.models.Model(inputs=[input_layer], outputs=[out])\n",
    "    return model"
   ]
  },
  {
   "cell_type": "code",
   "execution_count": 6,
   "metadata": {},
   "outputs": [],
   "source": [
    "## 超參數設定\n",
    "LEARNING_RATE = 1e-3\n",
    "EPOCHS = 25\n",
    "BATCH_SIZE = 1024\n",
    "MOMENTUM = 0.95"
   ]
  },
  {
   "cell_type": "code",
   "execution_count": 7,
   "metadata": {},
   "outputs": [],
   "source": [
    "# 載入 Callbacks\n",
    "from keras.callbacks import Callback\n",
    "from sklearn.metrics import confusion_matrix\n",
    "\n",
    "# Record_fp_tp\n",
    "class Record_tp_tn(Callback):\n",
    "    \"\"\"Code Here\n",
    "    撰寫一個紀錄 ture positive 與 true negative 數量的 callbacks    \n",
    "    \"\"\"\n",
    "    def on_train_begin(self, epoch, logs = {}):\n",
    "        logs = logs or {}\n",
    "        record_items = [\"val_auc\", \"val_f1sc\", \"val_fp\", \"val_fn\", \"val_tp\", \"val_tn\"]\n",
    "        for i in record_items:\n",
    "            if i not in self.params['metrics']:\n",
    "                self.params['metrics'].append(i)\n",
    "    \n",
    "    def on_epoch_end(self, epoch, logs = {}, thres=0.5):\n",
    "        logs = logs or {}\n",
    "        y_true = self.validation_data[1].argmax(axis = 1)\n",
    "        y_pred = self.model.predict(self.validation_data[0])\n",
    "        y_pred = (y_pred[:, 1] >= thres) * 1\n",
    "        \n",
    "        cm = confusion_matrix(y_true, y_pred)\n",
    "        logs[\"val_tp\"] = cm[1][1]\n",
    "        logs[\"val_tn\"] = cm[0][0]\n",
    "        \n",
    "rec_tptn = Record_tp_tn()"
   ]
  },
  {
   "cell_type": "code",
   "execution_count": 8,
   "metadata": {
    "scrolled": true
   },
   "outputs": [
    {
     "name": "stdout",
     "output_type": "stream",
     "text": [
      "Model: \"model_1\"\n",
      "_________________________________________________________________\n",
      "Layer (type)                 Output Shape              Param #   \n",
      "=================================================================\n",
      "input_1 (InputLayer)         (None, 3072)              0         \n",
      "_________________________________________________________________\n",
      "hidden_layer1 (Dense)        (None, 512)               1573376   \n",
      "_________________________________________________________________\n",
      "batch_normalization_1 (Batch (None, 512)               2048      \n",
      "_________________________________________________________________\n",
      "hidden_layer2 (Dense)        (None, 256)               131328    \n",
      "_________________________________________________________________\n",
      "batch_normalization_2 (Batch (None, 256)               1024      \n",
      "_________________________________________________________________\n",
      "hidden_layer3 (Dense)        (None, 128)               32896     \n",
      "_________________________________________________________________\n",
      "batch_normalization_3 (Batch (None, 128)               512       \n",
      "_________________________________________________________________\n",
      "output (Dense)               (None, 10)                1290      \n",
      "=================================================================\n",
      "Total params: 1,742,474\n",
      "Trainable params: 1,740,682\n",
      "Non-trainable params: 1,792\n",
      "_________________________________________________________________\n",
      "Train on 50000 samples, validate on 10000 samples\n",
      "Epoch 1/25\n",
      "50000/50000 [==============================] - 3s 62us/step - loss: 2.1923 - accuracy: 0.2766 - val_loss: 2.1570 - val_accuracy: 0.2148\n",
      "Epoch 2/25\n",
      "50000/50000 [==============================] - 2s 46us/step - loss: 1.7313 - accuracy: 0.3918 - val_loss: 2.0047 - val_accuracy: 0.2684\n",
      "Epoch 3/25\n",
      "50000/50000 [==============================] - 2s 45us/step - loss: 1.6113 - accuracy: 0.4345 - val_loss: 1.8356 - val_accuracy: 0.3453\n",
      "Epoch 4/25\n",
      "50000/50000 [==============================] - 3s 53us/step - loss: 1.5373 - accuracy: 0.4601 - val_loss: 1.7229 - val_accuracy: 0.3902\n",
      "Epoch 5/25\n",
      "50000/50000 [==============================] - 2s 47us/step - loss: 1.4860 - accuracy: 0.4781 - val_loss: 1.6313 - val_accuracy: 0.4221\n",
      "Epoch 6/25\n",
      "50000/50000 [==============================] - 2s 44us/step - loss: 1.4389 - accuracy: 0.4943 - val_loss: 1.5791 - val_accuracy: 0.4468\n",
      "Epoch 7/25\n",
      "50000/50000 [==============================] - 2s 47us/step - loss: 1.4023 - accuracy: 0.5073 - val_loss: 1.5417 - val_accuracy: 0.4567\n",
      "Epoch 8/25\n",
      "50000/50000 [==============================] - 2s 46us/step - loss: 1.3660 - accuracy: 0.5236 - val_loss: 1.5288 - val_accuracy: 0.4618\n",
      "Epoch 9/25\n",
      "50000/50000 [==============================] - 2s 44us/step - loss: 1.3353 - accuracy: 0.5348 - val_loss: 1.5181 - val_accuracy: 0.4612\n",
      "Epoch 10/25\n",
      "50000/50000 [==============================] - 2s 48us/step - loss: 1.3056 - accuracy: 0.5458 - val_loss: 1.4859 - val_accuracy: 0.4778\n",
      "Epoch 11/25\n",
      "50000/50000 [==============================] - 2s 47us/step - loss: 1.2771 - accuracy: 0.5575 - val_loss: 1.4735 - val_accuracy: 0.4802\n",
      "Epoch 12/25\n",
      "50000/50000 [==============================] - 2s 49us/step - loss: 1.2510 - accuracy: 0.5668 - val_loss: 1.4745 - val_accuracy: 0.4793\n",
      "Epoch 13/25\n",
      "50000/50000 [==============================] - 2s 45us/step - loss: 1.2239 - accuracy: 0.5757 - val_loss: 1.4699 - val_accuracy: 0.4885\n",
      "Epoch 14/25\n",
      "50000/50000 [==============================] - 2s 45us/step - loss: 1.2003 - accuracy: 0.5842 - val_loss: 1.4630 - val_accuracy: 0.4846\n",
      "Epoch 15/25\n",
      "50000/50000 [==============================] - 2s 45us/step - loss: 1.1747 - accuracy: 0.5938 - val_loss: 1.4502 - val_accuracy: 0.4865\n",
      "Epoch 16/25\n",
      "50000/50000 [==============================] - 2s 44us/step - loss: 1.1525 - accuracy: 0.6044 - val_loss: 1.4576 - val_accuracy: 0.4911\n",
      "Epoch 17/25\n",
      "50000/50000 [==============================] - 2s 46us/step - loss: 1.1310 - accuracy: 0.6106 - val_loss: 1.4571 - val_accuracy: 0.4931\n",
      "Epoch 18/25\n",
      "50000/50000 [==============================] - 2s 46us/step - loss: 1.1104 - accuracy: 0.6200 - val_loss: 1.4536 - val_accuracy: 0.4863\n",
      "Epoch 19/25\n",
      "50000/50000 [==============================] - 2s 46us/step - loss: 1.0858 - accuracy: 0.6285 - val_loss: 1.4467 - val_accuracy: 0.4949\n",
      "Epoch 20/25\n",
      "50000/50000 [==============================] - 2s 46us/step - loss: 1.0644 - accuracy: 0.6361 - val_loss: 1.4454 - val_accuracy: 0.4938\n",
      "Epoch 21/25\n",
      "50000/50000 [==============================] - 2s 45us/step - loss: 1.0424 - accuracy: 0.6447 - val_loss: 1.4501 - val_accuracy: 0.4979\n",
      "Epoch 22/25\n",
      "50000/50000 [==============================] - 2s 47us/step - loss: 1.0235 - accuracy: 0.6515 - val_loss: 1.4500 - val_accuracy: 0.4997\n",
      "Epoch 23/25\n",
      "50000/50000 [==============================] - 2s 45us/step - loss: 1.0010 - accuracy: 0.6611 - val_loss: 1.4512 - val_accuracy: 0.4985\n",
      "Epoch 24/25\n",
      "50000/50000 [==============================] - 2s 44us/step - loss: 0.9811 - accuracy: 0.6685 - val_loss: 1.4646 - val_accuracy: 0.5013\n",
      "Epoch 25/25\n",
      "50000/50000 [==============================] - 2s 45us/step - loss: 0.9607 - accuracy: 0.6771 - val_loss: 1.4621 - val_accuracy: 0.5021\n"
     ]
    }
   ],
   "source": [
    "model = build_mlp(input_shape=x_train.shape[1:])\n",
    "model.summary()\n",
    "optimizer = keras.optimizers.SGD(lr=LEARNING_RATE, nesterov=True, momentum=MOMENTUM)\n",
    "model.compile(loss=\"categorical_crossentropy\", metrics=[\"accuracy\"], optimizer=optimizer)\n",
    "\n",
    "\"\"\"Code Here\n",
    "將 callbacks 放入模型訓練流程中\n",
    "\"\"\"\n",
    "model.fit(x_train, y_train, \n",
    "          epochs=EPOCHS, \n",
    "          batch_size=BATCH_SIZE, \n",
    "          validation_data=(x_test, y_test), \n",
    "          shuffle=True,\n",
    "          callbacks=[rec_tptn]\n",
    "         )\n",
    "\n",
    "# Collect results\n",
    "train_loss = model.history.history[\"loss\"]\n",
    "valid_loss = model.history.history[\"val_loss\"]\n",
    "train_acc = model.history.history[\"accuracy\"]\n",
    "valid_acc = model.history.history[\"val_accuracy\"]\n",
    "\n",
    "\"\"\"Code Here\n",
    "將 tp/tn 從訓練完的模型中取出\n",
    "\"\"\"\n",
    "valid_tp = model.history.history['val_tp']\n",
    "valid_tn = model.history.history['val_tn']"
   ]
  },
  {
   "cell_type": "code",
   "execution_count": 9,
   "metadata": {},
   "outputs": [
    {
     "data": {
      "image/png": "[encoded data removed]",
      "text/plain": [
       "<Figure size 432x288 with 1 Axes>"
      ]
     },
     "metadata": {
      "needs_background": "light"
     },
     "output_type": "display_data"
    },
    {
     "data": {
      "image/png": "[encoded data removed]",
      "text/plain": [
       "<Figure size 432x288 with 1 Axes>"
      ]
     },
     "metadata": {
      "needs_background": "light"
     },
     "output_type": "display_data"
    },
    {
     "data": {
      "image/png": "[encoded data removed]",
      "text/plain": [
       "<Figure size 432x288 with 1 Axes>"
      ]
     },
     "metadata": {
      "needs_background": "light"
     },
     "output_type": "display_data"
    }
   ],
   "source": [
    "import matplotlib.pyplot as plt\n",
    "%matplotlib inline\n",
    "\n",
    "plt.plot(range(len(train_loss)), train_loss, label=\"train loss\")\n",
    "plt.plot(range(len(valid_loss)), valid_loss, label=\"valid loss\")\n",
    "plt.legend()\n",
    "plt.title(\"Loss\")\n",
    "plt.show()\n",
    "\n",
    "plt.plot(range(len(train_acc)), train_acc, label=\"train accuracy\")\n",
    "plt.plot(range(len(valid_acc)), valid_acc, label=\"valid accuracy\")\n",
    "plt.legend()\n",
    "plt.title(\"Accuracy\")\n",
    "plt.show()\n",
    "\n",
    "plt.plot(range(len(valid_tp)), valid_tp, label=\"valid tp\", color=\"navy\")\n",
    "plt.plot(range(len(valid_tn)), valid_tn, label=\"valid tn\", color=\"red\")\n",
    "plt.legend()\n",
    "plt.title(\"True positives and True Negatives\")\n",
    "plt.show()\n"
   ]
  },
  {
   "cell_type": "code",
   "execution_count": null,
   "metadata": {},
   "outputs": [],
   "source": []
  }
 ],
 "metadata": {
  "kernelspec": {
   "display_name": "Python 3",
   "language": "python",
   "name": "python3"
  },
  "language_info": {
   "codemirror_mode": {
    "name": "ipython",
    "version": 3
   },
   "file_extension": ".py",
   "mimetype": "text/x-python",
   "name": "python",
   "nbconvert_exporter": "python",
   "pygments_lexer": "ipython3",
   "version": "3.7.7"
  }
 },
 "nbformat": 4,
 "nbformat_minor": 2
}
